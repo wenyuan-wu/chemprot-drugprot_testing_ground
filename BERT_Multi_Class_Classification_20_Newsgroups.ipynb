{
 "cells": [
  {
   "cell_type": "markdown",
   "metadata": {
    "id": "EKOTlwcmxmej"
   },
   "source": [
    "# BERT Multi-Class Classification Tutorial with Code\n",
    "\n",
    "By Chris McCormick\n",
    "\n"
   ]
  },
  {
   "cell_type": "markdown",
   "metadata": {
    "id": "_8uEW4O7f8XS"
   },
   "source": [
    "This Notebook will show you how to fine-tune BERT for **multi-class text classification** tasks, meaning that there are more than just two classes in the dataset. We'll be using the 20 Newsgroups dataset, which is a test classification dataset with 20 different classes. I'll discuss this dataset in more detail in section 2.\n"
   ]
  },
  {
   "cell_type": "markdown",
   "metadata": {
    "id": "uramjg4GhXD5"
   },
   "source": [
    "\n",
    "**Multi-Label vs. Multi-Class**\n",
    "\n",
    "It's important to note that \"Multi-Class\" and \"Multi-Label\" actually refer to two *different* kinds of tasks, and are handled differently.\n",
    "\n",
    "When our documents can have a variable number of labels, we call it **multi-label** classification. For example, imagine a system which proposes \"tags\" to add to documents--there can be multiple appropriate tags! \n",
    "\n",
    "When each document only belongs to *one category each*, then we refer to it as either **binary** classification (if there are only two classes), or **multi-class** classification (if there are *more than 2* classes).\n"
   ]
  },
  {
   "cell_type": "markdown",
   "metadata": {
    "id": "BA9fG7zZhZpE"
   },
   "source": [
    "\n",
    "**Fine-Tuning Basics**\n",
    "\n",
    "If you aren't already familiar with the basics of fine-tuning BERT, you might want to check out my Notebook [BERT Fine-Tuning Tutorial with PyTorch](https://colab.research.google.com/drive/1Y4o3jh3ZH70tl6mCd76vz_IxX23biCPP), which serves as a nice introduction.\n"
   ]
  },
  {
   "cell_type": "markdown",
   "metadata": {
    "id": "Lj_eBt3G3bo6"
   },
   "source": [
    "# Part I - Dataset & Tokenization\n",
    "---------------------------------"
   ]
  },
  {
   "cell_type": "markdown",
   "metadata": {
    "id": "RX_ZDhicpHkV"
   },
   "source": [
    "## S1. Setup\n"
   ]
  },
  {
   "cell_type": "markdown",
   "metadata": {
    "id": "nSU7yERLP_66"
   },
   "source": [
    "### 1.1. Connecting GPU\n"
   ]
  },
  {
   "cell_type": "markdown",
   "metadata": {
    "id": "GI0iOY8zvZzL"
   },
   "source": [
    "\n",
    "Google Colab offers free GPUs and TPUs! Since we'll be training a large neural network it's best to take advantage of this (in this case we'll attach a GPU), otherwise training will take a very long time.\n",
    "\n",
    "This notebook is already set up to use a GPU. If you ever need to add one to a Notebook, though, you do this by going to the menu and selecting:\n",
    "\n",
    "`Edit 🡒 Notebook Settings 🡒 Hardware accelerator 🡒 (GPU)`"
   ]
  },
  {
   "cell_type": "markdown",
   "metadata": {
    "id": "cqG7FzRVFEIv"
   },
   "source": [
    "In order for torch to use the GPU, we need to identify and specify the GPU as the device. Later, in our training loop, we will load data onto the device. "
   ]
  },
  {
   "cell_type": "code",
   "execution_count": 1,
   "metadata": {
    "colab": {
     "base_uri": "https://localhost:8080/",
     "height": 51
    },
    "id": "oYsV4H8fCpZ-",
    "outputId": "6ef0f16a-23bd-4a8b-82f9-63a196807436"
   },
   "outputs": [
    {
     "name": "stdout",
     "output_type": "stream",
     "text": [
      "There are 1 GPU(s) available.\n",
      "We will use the GPU: NVIDIA GeForce RTX 2060\n"
     ]
    }
   ],
   "source": [
    "import torch\n",
    "\n",
    "# If there's a GPU available...\n",
    "if torch.cuda.is_available():    \n",
    "\n",
    "    # Tell PyTorch to use the GPU.    \n",
    "    device = torch.device(\"cuda\")\n",
    "\n",
    "    print('There are %d GPU(s) available.' % torch.cuda.device_count())\n",
    "\n",
    "    print('We will use the GPU:', torch.cuda.get_device_name(0))\n",
    "\n",
    "# If not...\n",
    "else:\n",
    "    print('No GPU available, using the CPU instead.')\n",
    "    device = torch.device(\"cpu\")"
   ]
  },
  {
   "cell_type": "markdown",
   "metadata": {
    "id": "2ElsnSNUridI"
   },
   "source": [
    "### 1.2. Installing `transformers` from huggingface\n"
   ]
  },
  {
   "cell_type": "markdown",
   "metadata": {
    "id": "G_N2UDLevYWn"
   },
   "source": [
    "\n",
    "Next, let's install the [transformers](https://github.com/huggingface/transformers) package from Hugging Face which will give us a pytorch interface for working with BERT. "
   ]
  },
  {
   "cell_type": "code",
   "execution_count": 2,
   "metadata": {
    "colab": {
     "base_uri": "https://localhost:8080/",
     "height": 595
    },
    "id": "0NmMdkZO8R6q",
    "outputId": "74f16d42-9178-4b6d-85f8-728057123b7d"
   },
   "outputs": [
    {
     "name": "stdout",
     "output_type": "stream",
     "text": [
      "Requirement already satisfied: transformers in ./venv/lib/python3.8/site-packages (4.5.1)\n",
      "Requirement already satisfied: numpy>=1.17 in ./venv/lib/python3.8/site-packages (from transformers) (1.19.5)\n",
      "Requirement already satisfied: packaging in ./venv/lib/python3.8/site-packages (from transformers) (20.3)\n",
      "Requirement already satisfied: tokenizers<0.11,>=0.10.1 in ./venv/lib/python3.8/site-packages (from transformers) (0.10.2)\n",
      "Requirement already satisfied: regex!=2019.12.17 in ./venv/lib/python3.8/site-packages (from transformers) (2021.4.4)\n",
      "Requirement already satisfied: sacremoses in ./venv/lib/python3.8/site-packages (from transformers) (0.0.45)\n",
      "Requirement already satisfied: tqdm>=4.27 in ./venv/lib/python3.8/site-packages (from transformers) (4.60.0)\n",
      "Requirement already satisfied: requests in ./venv/lib/python3.8/site-packages (from transformers) (2.22.0)\n",
      "Requirement already satisfied: filelock in ./venv/lib/python3.8/site-packages (from transformers) (3.0.12)\n",
      "Requirement already satisfied: six in ./venv/lib/python3.8/site-packages (from sacremoses->transformers) (1.15.0)\n",
      "Requirement already satisfied: click in ./venv/lib/python3.8/site-packages (from sacremoses->transformers) (7.1.2)\n",
      "Requirement already satisfied: joblib in ./venv/lib/python3.8/site-packages (from sacremoses->transformers) (1.0.1)\n"
     ]
    }
   ],
   "source": [
    "!pip install transformers"
   ]
  },
  {
   "cell_type": "markdown",
   "metadata": {
    "id": "Bt3HTo7LLMtj"
   },
   "source": [
    "## S2. Retrieve & Inspect Dataset\n",
    "\n"
   ]
  },
  {
   "cell_type": "markdown",
   "metadata": {
    "id": "QNgdnNsJO6AJ"
   },
   "source": [
    "The 20 Newsgroups dataset is old (from the 1990s?), and contains what today we would probably call \"forum posts\", coming from 20 different subtopics.  \n",
    "\n",
    "From the dataset [homepage](http://qwone.com/~jason/20Newsgroups/): \n",
    "\n",
    "> \"Here is a list of the 20 newsgroups, partitioned (more or less) according to subject matter:\"\n",
    ">\n",
    "> |                                                                                                                 |                                                                        |                                                             |\n",
    "|-----------------------------------------------------------------------------------------------------------------|------------------------------------------------------------------------|-------------------------------------------------------------|\n",
    "| comp.graphics<br>comp.os.ms-windows.misc<br>comp.sys.ibm.pc.hardware<br>comp.sys.mac.hardware<br>comp.windows.x | rec.autos<br>rec.motorcycles<br>rec.sport.baseball<br>rec.sport.hockey | sci.crypt<br>sci.electronics<br>sci.med<br>sci.space        |\n",
    "| misc.forsale                                                                                                    | talk.politics.misc<br>talk.politics.guns<br>talk.politics.mideast      | talk.religion.misc<br>alt.atheism<br>soc.religion.christian |\n",
    "\n",
    "\n",
    "Scikit-learn includes some nice helper functions for retrieving the 20 Newsgroups dataset (from their example [here](https://scikit-learn.org/0.19/datasets/twenty_newsgroups.html)). We'll use them below to retrieve the dataset.\n",
    "\n"
   ]
  },
  {
   "cell_type": "code",
   "execution_count": 3,
   "metadata": {
    "colab": {
     "base_uri": "https://localhost:8080/",
     "height": 51
    },
    "id": "50JTGROXMeBZ",
    "outputId": "f18ae6e6-2b41-4c06-c647-cb0a6de15486"
   },
   "outputs": [],
   "source": [
    "from sklearn.datasets import fetch_20newsgroups\n",
    "\n",
    "# Retrieve the dataset.\n",
    "# The scikit-learn example recommends stripping the metadata from these examples\n",
    "# because it can be too much of a give-away to make it an interesting text \n",
    "# classification problem. That is what the `remove` parameter is doing below.\n",
    "train = fetch_20newsgroups(subset='train',\n",
    "                           remove=('headers', 'footers', 'quotes'))\n",
    "\n",
    "test = fetch_20newsgroups(subset='test',\n",
    "                           remove=('headers', 'footers', 'quotes'))\n"
   ]
  },
  {
   "cell_type": "markdown",
   "metadata": {
    "id": "Z_9jkwfgPz99"
   },
   "source": [
    "Let's check out some random examples."
   ]
  },
  {
   "cell_type": "code",
   "execution_count": 4,
   "metadata": {
    "colab": {
     "base_uri": "https://localhost:8080/",
     "height": 1000
    },
    "id": "Njp6-5b5NwiE",
    "outputId": "03c951fe-8961-4b95-8ff1-11c8554f8237"
   },
   "outputs": [
    {
     "name": "stdout",
     "output_type": "stream",
     "text": [
      "\n",
      "======== alt.atheism ========\n",
      "   So now we're judging the Qur'an by what's not in it?      How many mutton\n",
      "headed arguments am I going to have to wade   through today?     One would hope.\n",
      "/\\/\\/\\/\\/\\/\\/\\/\\/\\/\\/\\/\\/\\/\\/\\/\\/\\/\\/\\/\\/\\/\\/\\/\\/\\/\\/\\/\\/\\/\\/\\/\\/\\/\\   Bob\n",
      "Beauchaine bobbe@vice.ICO.TEK.COM   They said that Queens could stay, they blew\n",
      "the Bronx away, and sank Manhattan out at sea.\n",
      "\n",
      "\n",
      "======== rec.sport.baseball ========\n",
      "was...\n",
      "\n",
      "\n",
      "======== rec.autos ========\n",
      " Oh come on, Silly, all you have to do is cut a hole in your hood and  put a\n",
      "tube there so you can get to the oil fill hole.  What do you think all those big\n",
      "air intake things are for on those hot-rod cars? They're just for looks\n",
      "only...little does anyone know, they provide access to the oil-fill hole.\n",
      "\n",
      "\n",
      "======== comp.os.ms-windows.misc ========\n",
      "Word for Windows lets me designate text as being in a language other than US\n",
      "English.  (Alt-F L, Format | Language, as I recall.)  So I mark it for English\n",
      "(UK), but it still accepts \"rumor\" and squawks at \"rumour\".  As far as I can\n",
      "see, Microsoft didn't include the English (UK) dictionary on my disks.  (I don't\n",
      "mean to imply that I was singled out; I assume that nobody in the U.S got them.)\n",
      "I dialed the Microsoft BBS, but nothing in the Word for Windows section looked\n",
      "helpful.  Can anyone tell me where or how to obtain the UK spelling dictionary\n",
      "for Winword 2.0?  The file name would be SPELL_UK.LEX or something similar.\n",
      "Email please; I'll post a summary.\n",
      "\n",
      "\n",
      "======== comp.os.ms-windows.misc ========\n",
      "My suggestion would be to contact Microsoft about the Video4Windows SDK. You\n",
      "would need to call Developer Services at (800)227-4679 extension 11771 from\n",
      "6:30am to 5:30pm Pacific time.\n",
      "\n",
      "\n",
      "======== rec.sport.baseball ========\n",
      "HEY!!! All you Yankee fans who've been knocking my prediction of Baltimore. You\n",
      "flooded my mailbox with cries of \"Militello's good, Militello's good.\"  Where is\n",
      "he??!! I noticed he got skipped over after that oh so strong first outing.  He's\n",
      "not by any chance in Columbus  now, is he?  Please don't tell me you're relying\n",
      "on this guy to be the *fourth*, not the fifth, but the  *fourth* starter on this\n",
      "brittle pitching staff.    As for the O's, it's still early.   See y'all at the\n",
      "ballyard Go Braves Chop Chop  Michael Mule'\n",
      "\n",
      "\n",
      "======== rec.sport.hockey ========\n",
      " Press conference at 1PM ...   Interestingly, Keenan's co-coach (or is it his\n",
      "\"Number One\"?) on Team Canada at the World Championships is Roger Neilsen.\n",
      "It'd be interesting if the Rangers call in the balance of Neilsen's contract to\n",
      "be Keenan's assistant ...  Roger did do a very good job with the mediocre\n",
      "players, just as he handled the Cinderella Canucks of 10 years ago ... but his\n",
      "mistake was playing the Rangers like those Canucks last May ...  gld\n",
      "\n",
      "\n",
      "======== talk.politics.guns ========\n",
      "\n",
      "\n",
      "\n",
      "======== alt.atheism ========\n",
      " [Dan's article deleted]  I found the same add in our local Sunday newspaper.\n",
      "The add was placed in the ..... cartoon section! The perfect place for it ! :-)\n",
      "\n",
      "\n",
      "======== talk.politics.misc ========\n",
      "THE WHITE HOUSE                      Office of the Press Secretary\n",
      "_____________________________________________________________________ For\n",
      "Immediate Release                                   April 5, 1993\n",
      "PRESS BRIEFING                        BY GEORGE STEPHANOPOLOUS\n",
      "The Briefing Room    10:10 A.M. EDT                            MR.\n",
      "STEPHANOPOULOS:  As you know, the President is soon  to be on his way, on\n",
      "Amtrack to Camden Yards.  He'll be throwing out  the first pitch.\n",
      "Q    It's MARC, the Maryland Area Transit, it's not  Amtrack.\n",
      "MR. STEPHANOPOULOS:  Oh, it's not Amtrack?  Well, he's  going from Union\n",
      "Station, you're right.  Excuse me.                            Q    George, what\n",
      "exactly are you prepared to do to  break the logjam with  ??? Senate?\n",
      "MR. STEPHANOPOULOS:  Well, as you know, there are  discussions between Senator\n",
      "Mitchell and Senator Dole this morning,  and I think that the President is going\n",
      "to continue to make the point  that he believes that our investment package, our\n",
      "jobs package needs  to be passed as quickly as possible.  We need this\n",
      "investment for  summer jobs, for immunization, for highway construction, for the\n",
      "important programs that will put people back to work right away this  summer.\n",
      "And the President continues to believe his program should be  passed.\n",
      "Q    Will he compromise, that's the question?                            MR.\n",
      "STEPHANOPOULOS:  Well, as you know, the discussions  are going on this morning\n",
      "in the Senate betwen Senator Mitchell and  Senator Dole, let's see what they\n",
      "come up with.  But the President  believes his jobs program should go forward.\n",
      "Q    George, would the President be willing to accept $8  billion for one year,\n",
      "which apparently appears to be the compromise  being offered by --\n",
      "MR. STEPHANOPOULOS:  Well, I don't know what is being  offered by either side.\n",
      "The Senate discussions are going on right  now, let's see what happens today.\n",
      "Q    Would he go that far -- no matter what the  Republicans have offered so\n",
      "far, would he go that far, $8 billion per  year?                            MR.\n",
      "STEPHANOPOULOS:  The President believes that his  program should be passed at\n",
      "this time.  Clearly, we're going to be  willing to listen to what the Senators\n",
      "might or might not be able to  come up with, but I'm not going to get into\n",
      "figures right now.  Let's  see what happens.                            Q\n",
      "It's reasonable to assume, isn't it, from what has  happened so far that a\n",
      "compromise is going to be necessary in order  to get a vote?\n",
      "MR. STEPHANOPOULOS:  Well, the Republicans seem more  intrested in stopping\n",
      "progress on the President's jobs bill, than in  doing something to create --\n",
      "MR. STEPHANOPOULOS:  Well, the  Republicans seem more interested in stopping\n",
      "progress on the  President's jobs bill than in doing something to create real\n",
      "action,  real jobs this summer for the American people.  I think there's no\n",
      "question about that.  There's been some frustration of legislative  activity\n",
      "over the last few days.                            Q    So, you'll need to\n",
      "compromise to get your package  through?                            MR.\n",
      "STEPHANOPOULOS:  We'll see what happens with the  conversations between Senator\n",
      "Mitchell and Senator Dole this morning.                            Q\n",
      "prepared to compromise --                            MR. STEPHANOPOULOS:  The\n",
      "President's prepared to listen  to what Senator Mitchell has to say this morning\n",
      "after his meeting  with Senator Dole.                             Q    Does he\n",
      "feel that he has been defeated in his --                            MR.\n",
      "STEPHANOPOULOS:  Not in the least.  In fact, he's  been very successful so far\n",
      "in the beginning of his term.                            Q    How?\n",
      "MR. STEPHANOPOULOS:  He passed his budget in record  time, in six weeks, and\n",
      "it's a budget which reduces the deficit by  $500 billion over five years.  And\n",
      "it's a budget which provides for  important investments in our future.  Right\n",
      "now we've also had strong  passage of his jobs program through the House.\n",
      "Simply because a  minority of Republicans in the Senate choose to perpetuate\n",
      "gridlock  and hold up action on the President's jobs program is not a sign that\n",
      "he is not succeeding overall.                            Q    He can't beat\n",
      "this, can he?                            Q    The fact is they can do that?\n",
      "MR. STEPHANOPOULOS:  Well, the Republicans can stop  action.  There's no\n",
      "question about that.                            Q    What are you going to do\n",
      "about it?                            Q    George, what do you know about these\n",
      "alleged notes  taken by Boris Yeltsin during one of the meetings in which it\n",
      "appears  that the President told Boris Yeltsin not to trust the Japanese; that\n",
      "when they say yes they mean no?                            MR. STEPHANOPOULOS:\n",
      "I think that's a complete  misreading of what happened at the meeting.  The\n",
      "context of the  conversation was that President Clinton was actually reassuring\n",
      "President Yeltsin at the time about his conversations with Prime  Minister\n",
      "Miyazawa over the Kuril Islands and the Prime Minister's  belief that Japan\n",
      "would play a constructive role in the G-7 process.   I mean this was a casual\n",
      "comment about Japanese courtesy and  etiquette but overall it was in the context\n",
      "of a conversation where  he was reassuring President Yeltsin that he believed\n",
      "the Japanese  were serious about their commitment to the G-7 process.\n",
      "Q     Are you saying that the President said that when  the Japanese say yes\n",
      "they mean no?                            MR. STEPHANOPOULOS:  That's not -- I\n",
      "don't know the  exact words and there was a much longer discussion about he did\n",
      "say  something along the lines that he believes that on this issue Prime\n",
      "Minister Miyazawa intends to really go forward with the G-7 process.\n",
      "Q    Have there been any attempts to explain this to the  Japanese because\n",
      "apparently the Japanese press has picked this up and  there appears to be --\n",
      "MR. STEPHANOPOULOS:  I've seen the reports in the  Japanese press and it\n",
      "actually does put the situation in context.  It  does talk about the Japanese --\n",
      "understanding the Japanese points of  view.  I don't think it's going to be a\n",
      "problem.  I believe that  there may have been some diplomatic context just to\n",
      "clear things up  but I'm not positive.                            Q    George,\n",
      "was the specific comment that was made  specific to the Kuril Island situation\n",
      "or was it a general  observation on Japanese etiquette?\n",
      "MR. STEPHANOPOULOS:  The discussion was about --                            Q\n",
      "The specific comment is what I'm asking about that  has alleged to have been\n",
      "translated from the Russian notes, \"when the  Japanese say yes they mean no.\"\n",
      "MR. STEPHANOPOULOS:  Well, it was a combination.  I mean  I don't think that's\n",
      "the whole sentence.  I think that the specific  comment was a broad, general\n",
      "observation followed up by a specific  finish to the sentence where he said in\n",
      "this case he believes that  Prime Minister Miyazawa means to keep the\n",
      "commitment.                            Q    Was he saying it facetiously first?\n",
      "MR. STEPHANOPOULOS:  I think it was just a casual  observation.\n",
      "Q    And then you say diplomatic contacts were made to  clear it up.  Has the\n",
      "President sent a message?                            MR. STEPHANOPOULOS:  No, I\n",
      "don't think the President  spoke; I believe that Secretary Christopher has made\n",
      "some calls but  I'm not sure exactly how many.                            Q\n",
      "Well, this obviously is a bigger deal than you're  making it out to be if\n",
      "Christopher has had to make some calls.                            MR.\n",
      "STEPHANOPOULOS:  No, no.  It was just that we got  the reports in Vancouver and\n",
      "the Secretary wanted to make sure that  it was understood and make sure there\n",
      "was absolutely no               MR. STEPHANOPOULOS:  -- reports in Vancouver,\n",
      "and the  Secretary wanted to make sure that it was understood, and make sure\n",
      "there is absolutely no misunderstanding, and I don't believe there is  on.\n",
      "Q    What is our position about the Japanese?  That they  may have to say one\n",
      "thing, but actualy mean another?                            MR. STEPHANOPOULOS:\n",
      "No.  The position on the Japanese  is as the President stated to President\n",
      "Yeltsin throughout the two  days.  He said that he had had a good conversation\n",
      "with Prime  Minister Miazawa prior to the Summit.  He reiterated the U.S.\n",
      "position, the long-standing support for the Japanese position on the  Kuril\n",
      "Islands, but also reiterated Prime Minister Miazawa's  commitment to move\n",
      "forward on the G-7 process and to play a  constructive role.  And I think\n",
      "President Yeltsin was very glad to  hear that.                            Q\n",
      "After listening to Secretary Christopher on Iraq  for the last few days, I'm a\n",
      "little confused.  What is the U.S.  policy?  Do you want to see Saddam Hussein\n",
      "overturned?                            MR. STEPHANOPOULOS:  It's the same policy\n",
      "that Secretary  Christopher has reiterated, and all of the U.S officials have\n",
      "reiterated.  We expect full and complete and unequivocal compliance  with all\n",
      "U.N. resolutions.  Right now we do not have that compliance.\n",
      "Q       throwing it out further that if Iraq complies,  Saddam can't stay in\n",
      "office?                            MR. STEPHANOPOULOS:  Right.  I think that\n",
      "that's -- our  judgment is that it is not possible for Saddam Hussein to comply\n",
      "with  the resolutions and stay in power.  But the important point is that  we\n",
      "expect compliance by Iraq with all U.N. resolutions, and we will  continue to\n",
      "demand it.                            Q    And are you concerned the Iran will\n",
      "become the  dominant power in the area --                            MR.\n",
      "STEPHANOPOULOS:  Secretary Christopher has also  spoken to Iran over the last\n",
      "several days, and he says we also expect  full Iranian compliance with all\n",
      "international norms, and stopping  support of terrorism.\n",
      "Q    That's a very glib statement that he won't stay in  power if he complies\n",
      "with U.N. resolutions.  On what logic do you  base that?\n",
      "MR. STEPHANOPOULOS:  Right now Saddam Hussein is not  complying with the U.N.\n",
      "resolutions at all.  He is not respecting the  rights of his people, as is\n",
      "required by the U.N. resolution.  He is  not fully complying with all the\n",
      "resolutions regarding inspections.   He is not fully complying with all the\n",
      "resolutions regarding  armaments.                            Q    Well, when do\n",
      "you think that if he did comply he  would be out of power?               MR.\n",
      "STEPHANOPOULOS:  Well, right now his power rests on  the repression of his\n",
      "people.  If he stopped doing that it would make  it more difficult for him to\n",
      "stay in power.                            Q    George, back on the stimulus\n",
      "package, why is it  that you and the President accuse the Republicans of playing\n",
      "pure  politics and perpetuating gridlock?  Why is it that -- what evidence  do\n",
      "you have that they just don't have a genuine idealogical  difference with you\n",
      "that's in good faith?                            MR. STEPHANOPOULOS:  Well, the\n",
      "fact that several times  in the past the Republicans, many of the ones who are\n",
      "now leading the  fight for the filibuster, have supported the very funding they\n",
      "now  seek to stop, most especially, the highway funding.\n",
      "Q    George, in regards to that, some of the moderate  Republicans said that the\n",
      "White House erred by not being more open to  them during the -- while the plan\n",
      "was put together, that they had  one, sort of, proforma meeting between the\n",
      "White House and the Senate  Republicans, and that was it.  Does the\n",
      "Administration look back and  thinks perhaps it could have done a better job of\n",
      "working with some - -                            MR. STEPHANOPOULOS:  Well, I'm\n",
      "not sure that it's true  that there was only one meeting.  I mean, the President\n",
      "met with the  Republican leadership on at least two occasions before the\n",
      "introduction of his package.  He met with the entire Senate  Republican Caucus\n",
      "also for lunch, and went up there.  We are  continually in contact with as many\n",
      "Republicans as we can find who  have an interest in the President's package.  We\n",
      "are interested in  what they have to say, as well.  But we believe that this\n",
      "program is  important, and we're going to continue to fight for it.\n",
      "Q       your all or nothing, do it with the Democrats  alone strategy, did you\n",
      "maybe miscalculate the ability to get it  through?\n",
      "MR. STEPHANOPOULOS:  Well, I mean, I think that there is  no question that under\n",
      "the Senate rules a determined minority can  frustrate activity.  I mean, there\n",
      "is just no question about that.   You only need 40 plus one to keep going.  40\n",
      "plus one to keep going  and to stop any action, and that's what the Republicans\n",
      "are doing.                            Q       going to rethink the way you\n",
      "attempt to get  other things passed as you go through this process for the rest\n",
      "of  the summer?                            Q       work with Republicans and try\n",
      "to woo some  Republicans into your camp?                            MR.\n",
      "STEPHANOPOULOS:  I think we're going to continue to  look for the support of\n",
      "Republicans whenever we can get it on the  President's intiatives?\n",
      "Q    But on this one -- how are you going to do it  differently than you did it\n",
      "on this one because on this one you  really did stiff the Republicans from the\n",
      "beginning and made it clear  that it was a Democratic majority that would get\n",
      "this through and  could get it through and you really didn't need Republican\n",
      "votes?   Are you going to take a different tack when you have to go for\n",
      "particular votes?  When you have to go through --                            MR.\n",
      "STEPHANOPOULOS:  I can't see into the future and  understand every possible turn\n",
      "in the legislative road.  Clearly the  President's going to continue to reach\n",
      "out when he can.                            Q    You don't have any regrets then\n",
      "about the way you  have handled it up to now and you don't plan any changes in\n",
      "your  approach in dealing with the Republicans in Congress based on this\n",
      "experience?                            MR. STEPHANOPOULOS:  Obviously the\n",
      "President would like  his package passed as quickly as possible and he's going\n",
      "to continue  to press for that.  We will continue to reach out to Republicans,\n",
      "there's not question about that.  And we'll continue to reason with  them and\n",
      "try and find appropriate avenues for cooperation.  In this  case the Republicans\n",
      "have chosen to unify around a filibuster, around  a plan to frustrate action not\n",
      "a plan to move forward.                            Q    They're being denied any\n",
      "other legislative means of  putting their proposals forward.\n",
      "MR. STEPHANOPOULOS:  I think they're being --                            Q\n",
      "any ideas.                            MR. STEPHANOPOULOS:  I think their\n",
      "amendments are being  defeated; I don't know that they're being denied.\n",
      "Q       to present them.                            MR. STEPHANOPOULOS:  That's\n",
      "not exactly true.  I mean  they get the votes --                            Q\n",
      "that theirs can be passed though by the  parliamentary rules under which they're\n",
      "playing.                            MR. STEPHANOPOULOS:  Unless they get a\n",
      "majority in  support all the way around, no, that's not exactly true.\n",
      "Q    George, one more on Iraq.  Is the administration  backing any of the Iraqi\n",
      "opposition?  Grooming any new leadership?                            Q\n",
      "backing any of the Iraqi -- leadership?                            MR.\n",
      "STEPHANOPOULOS:  Oh, I -- again, we're pressing for  Iraqi compliance.  I don't\n",
      "know if we can get into the business of  grooming leadership.  I believe there\n",
      "have been some contacts, at  some levels, with Iraqi opposition groups.  I don't\n",
      "know  about  anything recently.                            Q       Jesse\n",
      "Jackson, who, of course, is not the  President's best friend, has, however, been\n",
      "told that there is to be  some kind of town meeting, or some kind of involvement\n",
      "by the  President, pre-empted the ball game -- Los Angeles.  Will he consider\n",
      "something like that, or any other kind of intervention there?\n",
      "MR. STEPHANOPOULOS:  Well, as you know, the President  appointed Commerce\n",
      "Secretary Ron Brown, about 10 days ago, to be a  special envoy to California,\n",
      "and coordiante cabinet activities around  the California economic situation,\n",
      "including the situation in Los  Angeles.                              I believe\n",
      "there will also be visits out to Los Angeles  by the Education -- or have been\n",
      "visits by the Education Secretary,  Mr. Riley.  I believe that Transportation\n",
      "Secretary Pena and HUD  Secretary Cisneros are also going out.  And there may be\n",
      "other visits  by Cabinet officials over the next several days and weeks.  I\n",
      "wouldn't rule out the possibility of a visit by President Clinton to\n",
      "California.  Obviously, he is following the situation closely, and is  concerned\n",
      "about making sure that we make the right long term policy  decisions that will\n",
      "help create the kind of economic opportunities  which help prevent disturbances.\n",
      "But we're going to continue to  watch it.                            Q\n",
      "George, as a follow-up, Reverend Jackson is also  supposed to be outside the\n",
      "ball park today, in Baltimore, with a  group of supporters protesting the lack\n",
      "of minorities in baseball  management.  Does the President have a position on\n",
      "that?                            MR. STEPHANOPOULOS:  The President has received\n",
      "correspondence from Reverend Jackson.  I know that Reverend Jackson  has also\n",
      "spoken with the White House Chief of Staff, Mack McLarty.   He clearly raises\n",
      "serious questions.  There has been some progress in  baseball over the last\n",
      "several years, but still not enough.  But the  President intends to continue to\n",
      "go to the ball game.                            Q    Is he going to say anything\n",
      "about it today, or see  Reverend Jackson while he's out there?\n",
      "MR. STEPHANOPOULOS:  I don't know if he is going to see  them, but as I said,\n",
      "the President believes that Reverend Jackson has  raised some serious questions,\n",
      "and it's something that, as I said,  even though there has been progress, it's\n",
      "clearly not enough.                            Q    Did Reverend Jackson ask him\n",
      "not to go to the ball  game?                            MR. STEPHANOPOULOS:  I'm\n",
      "not sure about that.  I believe  the characterization the Reverend Jackson is\n",
      "talking about is an  informational pickett.  I don't know that he asked him not\n",
      "to go to  the ball game, but he sent a long, detailed, formal letter outlining\n",
      "his concerns with the situation in major league baseball and the  President read\n",
      "it.                            Q    George, the Orioles are playing the Rangers,\n",
      "the  managing partner of the Rangers is George W. Bush.  Is he going to be\n",
      "there, and is he going to meet with the President?\n",
      "MR. STEPHANOPOULOS:  I don't know.                            Q    What is the\n",
      "Mubarak schedule?                            MR. STEPHANOPOULOS:  I know that\n",
      "President Mubarak is  coming tomorrow morning for a working meeting, they will\n",
      "have a  lunch, and I believe that he is having dinner tonight with Vice\n",
      "President Gore.                            Q    And joint statements tomorrow --\n",
      "MR. STEPHANOPOULOS:  I believe so, yes.  At the end,  yes.\n",
      "Q    Is there evidence, George, that the Egyptians did  warn the U.S. about a\n",
      "potential terrorist bombing -- terrorist  activities?\n",
      "MR. STEPHANOPOULOS:  As reported in The New York Times,  I mean, I think that\n",
      "President Mubarak did say that there has been  general conversations with the\n",
      "Egyptians, as there have been for a  long period of time.  We do have general\n",
      "intelligence sharing, I  mean.  But President Mubarak was very careful to point\n",
      "out that there  was no specific information on this visit that was passed\n",
      "forward.   The President will continue to investigate the situation, but he also\n",
      "reiterates his belief that we cannot tolerate terrorism of any kind.\n",
      "Q    George, he did make specific -- or the Egyptians,  apparently, did issue\n",
      "specific warnings about this individual who,  forgive me --this individual who,\n",
      "forgive me the name escapes me at  the moment, and said the Egyptians were more\n",
      "or less rebuffed in  their attempts to get some kind of action.\n",
      "MR. STEPHANOPOULOS:  Again, I don't know if I would  agree with your\n",
      "characterization of the Mubarak interview.  He did  say that they gave general\n",
      "warnings about the possibility of a  network in the United States and upon which\n",
      "we took appropriate  action.  But there was no specific information on this\n",
      "specific  operation at all.                            Q    So, the White House\n",
      "doesn't feel that any of the  law enforcement agencies whether it be the CIA or\n",
      "FBI who would have  received this kind of information was lax or derelict in its\n",
      "duty in  not pursuing some kind of --                            MR.\n",
      "STEPHANOPOULOS:  No, not at all.                            Q    What's next\n",
      "with Serbia?  It got only a passing  mention in the news conference yesterday --\n",
      "MR. STEPHANOPOULOS:  You didn't get to ask your  question.\n",
      "Q    Yes, exactly.  Was there any agreement on concerted  action between the two\n",
      "countries?  And even if there wasn't, what  does the U.S. do next?\n",
      "MR. STEPHANOPOULOS:  I think the U.S. is clearly going  to move forward in the\n",
      "U.N. today continuing discussions with our  allies on a sanctions resolution and\n",
      "we'll continue to look for ways  to press the Serbians to come to the\n",
      "negotiating table and sign an  agreement.                            Q\n",
      "George, why do you think sanctions is still an  option?  I mean the Serbians\n",
      "make it clear that at least the  leadership is surviving just fine and they feel\n",
      "like they can wait  you out and even the administration officials we had in the\n",
      "other day  said there's no evidence that they're going to have an effect any\n",
      "time soon.  The Bosnian Serbs have said no to the peace plan.  When  does no\n",
      "mean no and you have to do something different?                            MR.\n",
      "STEPHANOPOULOS:  Well, I mean we are doing something  different.  We're moving\n",
      "forward on further sanctions through the  U.N. and those discussions will\n",
      "continue.  We're going to continue to  try and tighten the noose on Serbia, and\n",
      "I think that every  opportunity we have to do that will have an effect over\n",
      "time.                            Q    Are we looking again at lifting the arms\n",
      "embargo?  MR. STEPHANOPOULOS:  The President has said that this is something\n",
      "that is under consideration.                            Q    George, do you have\n",
      "any more on Hugh Rodham's  condition, how he's doing?\n",
      "MR. STEPHANOPOULOS:  As far as I know nothing's changed.\n",
      "Q    George, -- week after Mr. Mubarak?                            MR.\n",
      "STEPHANOPOULOS:  It's a little unclear.  I think  we'll be able to get you more\n",
      "either tonight or tomorrow morning  after the Mubarak visit.\n",
      "Q    Is he going somewhere for Easter?                            MR.\n",
      "STEPHANOPOULOS:  Not that I know of.                            Q    What more\n",
      "can you tell us about the additional aid  to Russia that the President plans to\n",
      "ask Congress about?                            MR. STEPHANOPOULOS:  He's going\n",
      "to be consulting with  the Congress and with our G-7 partners over the next\n",
      "couple of weeks.   I know that he spoke last evening with Congressman Gephardt\n",
      "and their  delegation before the -- the congressional delegation meets with the\n",
      "Russians this week and those consultations will continue over the  next several\n",
      "weeks.                            Q    Do you expect that package to be of the\n",
      "magnitude  of the one announced Sunday?                            MR.\n",
      "STEPHANOPOULOS:  I'm not going to discuss the  magnitude.\n",
      "Q    How about the list of Cold War restrictions, where  do you stand on that --\n",
      "MR. STEPHANOPOULOS:  As the President said yesterday,  he's going to be looking\n",
      "for that list from the Congress this week  and reviewing it.  He believes --\n",
      "he's going to try and get it this  week and he's going to review the list, and\n",
      "we're going to take a  hard look at it.                            Q    But\n",
      "they're making it up?  I mean it's no White  House involvement, Congress is\n",
      "compiling this list?                            MR. STEPHANOPOULOS:  I think\n",
      "he's going to talk to the  congressional leaders about compiling the list but\n",
      "I'm certain we'll  be able to get our own researchers working as well.\n",
      "Q    George, isn't lifting the arms embargo more of a  probability than a\n",
      "possibility?                            MR. STEPHANOPOULOS:  It's something\n",
      "that's under  discussion.                            Q    Secretary Christopher\n",
      "has said that it's a matter  of time and -- for months before that happens.\n",
      "MR. STEPHANOPOULOS:  Again, all I can say is that it's  something that the\n",
      "President is reviewing.  Right now we're working  with our allies in the U.N on\n",
      "a sanctions resolution, and we'll  continue to review other matters.\n",
      "Q    George, can you tell us anything about the schedule  this week?  Any\n",
      "travel?                            MR. STEPHANOPOULOS:  They just asked about\n",
      "that.  I  don't have anything more beyond tomorrow's visit with Mubarak right\n",
      "now.                            Q    Are there consultations, George, with any\n",
      "Jewish  American organizations concerning Jackson-Vanick?\n",
      "MR. STEPHANOPOULOS:  As you know the National Conference  of Soviet Jewry has a\n",
      "list of, I believe,               MR. STEPHANOPOULOS:  -- as you know, the\n",
      "National  Conference of Soviet Jewry has a list of, I believe, 200 Refuseniks.\n",
      "We'll certainly take a look at that and continue appropriate  discussions.\n",
      "Thanks.\n",
      "\n"
     ]
    }
   ],
   "source": [
    "import textwrap\n",
    "import random\n",
    "\n",
    "# Wrap text to 80 characters.\n",
    "wrapper = textwrap.TextWrapper(width=80) \n",
    "\n",
    "# Randomly choose some examples.\n",
    "for i in range(10):\n",
    "    \n",
    "    # Choose a random sample by index.\n",
    "    j = random.choice(range(len(train.data)))\n",
    "    \n",
    "    # Get the text as 'x' and the label integer as 'y'.\n",
    "    x = train.data[j]\n",
    "    y = train.target[j]\n",
    "\n",
    "    # Print out the name of the category and the text.\n",
    "    print('')\n",
    "    print('========', train.target_names[y], '========')\n",
    "    print(wrapper.fill(x))\n",
    "    print('')\n"
   ]
  },
  {
   "cell_type": "markdown",
   "metadata": {
    "id": "zU5aPNzzLjeq"
   },
   "source": [
    "Let's look at the classes to see how balanced they are."
   ]
  },
  {
   "cell_type": "code",
   "execution_count": 5,
   "metadata": {
    "colab": {
     "base_uri": "https://localhost:8080/",
     "height": 423
    },
    "id": "fcBinIxWLjer",
    "outputId": "ac520996-ad31-427a-90d8-a8e2787c2644"
   },
   "outputs": [
    {
     "name": "stderr",
     "output_type": "stream",
     "text": [
      "/home/rafael/Documents/project_master_thesis/chemprot_testing_ground/venv/lib/python3.8/site-packages/seaborn/_decorators.py:36: FutureWarning: Pass the following variable as a keyword arg: x. From version 0.12, the only valid positional argument will be `data`, and passing other arguments without an explicit keyword will result in an error or misinterpretation.\n",
      "  warnings.warn(\n"
     ]
    },
    {
     "data": {
      "text/plain": [
       "Text(0, 0.5, '# of Training Samples')"
      ]
     },
     "execution_count": 5,
     "metadata": {},
     "output_type": "execute_result"
    },
    {
     "data": {
      "image/png": "[encoded data removed]",
      "text/plain": [
       "<Figure size 720x360 with 1 Axes>"
      ]
     },
     "metadata": {},
     "output_type": "display_data"
    }
   ],
   "source": [
    "import matplotlib.pyplot as plt\n",
    "import seaborn as sns\n",
    "import numpy as np\n",
    "\n",
    "sns.set(style='darkgrid')\n",
    "\n",
    "# Increase the plot size and font size.\n",
    "sns.set(font_scale=1.5)\n",
    "plt.rcParams[\"figure.figsize\"] = (10,5)\n",
    "\n",
    "\n",
    "# Plot the number of tokens of each length.\n",
    "sns.countplot(train.target)\n",
    "plt.title('Class Distribution')\n",
    "plt.xlabel('Category')\n",
    "plt.ylabel('# of Training Samples')\n"
   ]
  },
  {
   "cell_type": "markdown",
   "metadata": {
    "id": "Kd1aKF3RQzL1"
   },
   "source": [
    "They look pretty even, except for maybe class 19, which corresponds to 'talk.religion.misc'."
   ]
  },
  {
   "cell_type": "code",
   "execution_count": 6,
   "metadata": {
    "colab": {
     "base_uri": "https://localhost:8080/",
     "height": 34
    },
    "id": "WM2D8cKlQ24c",
    "outputId": "974de3a6-d0b8-4152-8f98-619ba50bc58b"
   },
   "outputs": [
    {
     "data": {
      "text/plain": [
       "'talk.religion.misc'"
      ]
     },
     "execution_count": 6,
     "metadata": {},
     "output_type": "execute_result"
    }
   ],
   "source": [
    "train.target_names[19]"
   ]
  },
  {
   "cell_type": "markdown",
   "metadata": {
    "id": "2_HzeZqLFWeh"
   },
   "source": [
    "## S3. Tokenization"
   ]
  },
  {
   "cell_type": "markdown",
   "metadata": {
    "id": "k_qjYE4eFciL"
   },
   "source": [
    "BERT has a maximum input length of 512 tokens, so we'll need to truncate any comments which are longer than this.\n"
   ]
  },
  {
   "cell_type": "markdown",
   "metadata": {
    "id": "OMHzhnmuGrpb"
   },
   "source": [
    "### 3.1. Load BertTokenizer"
   ]
  },
  {
   "cell_type": "markdown",
   "metadata": {
    "id": "vT0b0-5NGq0y"
   },
   "source": [
    "\n",
    "In order to see the distribution of comment lengths *in terms of BERT tokens*, we'll need to first apply the BertTokenizer to the dataset."
   ]
  },
  {
   "cell_type": "code",
   "execution_count": 7,
   "metadata": {
    "colab": {
     "base_uri": "https://localhost:8080/",
     "height": 83,
     "referenced_widgets": [
      "db72db3535264504963af4b5cad88adf",
      "4ddf121894674a5593b5acb284b9bca6",
      "c9b37fb4de0b41459e754ee3b12294ba",
      "9dc1c087b64e4351aa7c897bb1e505b4",
      "a389ea538d714857896b5c56d5a8eb57",
      "891297991ff240b2ba80f3f171558e60",
      "d88d2ed6ca5a4db4975ddbab3c574111",
      "587a51577f7148a4a2c685b6ccd863d0"
     ]
    },
    "id": "Z474sSC6oe7A",
    "outputId": "56f13e65-e340-4078-9202-670c366e2c2e"
   },
   "outputs": [
    {
     "name": "stdout",
     "output_type": "stream",
     "text": [
      "Loading BERT tokenizer...\n"
     ]
    }
   ],
   "source": [
    "from transformers import BertTokenizer\n",
    "\n",
    "# Load the BERT tokenizer.\n",
    "print('Loading BERT tokenizer...')\n",
    "tokenizer = BertTokenizer.from_pretrained('bert-base-uncased', do_lower_case=True)"
   ]
  },
  {
   "cell_type": "markdown",
   "metadata": {
    "id": "-8kEDRvShcU5"
   },
   "source": [
    "### 3.2. Sequence Length Distribution"
   ]
  },
  {
   "cell_type": "markdown",
   "metadata": {
    "id": "OGkq8hQJfqZY"
   },
   "source": [
    "To decide on a truncation strategy for this dataset, let's first look at the distribution of sequence lengths.\n",
    "\n",
    "To do this, our first step is to tokenize all of the samples in the training set."
   ]
  },
  {
   "cell_type": "markdown",
   "metadata": {
    "id": "1M296yz577fV"
   },
   "source": [
    "**Tokenize All Samples**\n",
    "\n",
    "The `tokenizer.encode` function combines multiple steps for us:\n",
    "1. Split the sentence into tokens.\n",
    "2. Add the special `[CLS]` and `[SEP]` tokens.\n",
    "3. Map the tokens to their IDs.\n",
    "\n",
    "In order to explore the distribution of sequence lengths, we will not perform any truncation here. Unfortunately, this results in the tokenizer spitting out a warning for every sample that's longer than 512 tokens. We'll just have to ignore those for now!"
   ]
  },
  {
   "cell_type": "code",
   "execution_count": 8,
   "metadata": {
    "colab": {
     "base_uri": "https://localhost:8080/",
     "height": 1000
    },
    "id": "2bBdb3pt8LuQ",
    "outputId": "d6e30143-8ad4-4e63-92a8-556c3fd4ee63"
   },
   "outputs": [
    {
     "name": "stderr",
     "output_type": "stream",
     "text": [
      "Token indices sequence length is longer than the specified maximum sequence length for this model (604 > 512). Running this sequence through the model will result in indexing errors\n"
     ]
    },
    {
     "name": "stdout",
     "output_type": "stream",
     "text": [
      "Tokenizing comments...\n",
      "  Read 0 comments.\n",
      "DONE.\n",
      "    11,314 comments\n"
     ]
    }
   ],
   "source": [
    "import numpy as np\n",
    "\n",
    "# Tokenize all of the sentences and map the tokens to thier word IDs.\n",
    "input_ids = []\n",
    "\n",
    "# Record the length of each sequence (in terms of BERT tokens).\n",
    "lengths = []\n",
    "\n",
    "print('Tokenizing comments...')\n",
    "\n",
    "# For every sentence...\n",
    "for sen in train.data:\n",
    "    \n",
    "    # Report progress.\n",
    "    if ((len(input_ids) % 20000) == 0):\n",
    "        print('  Read {:,} comments.'.format(len(input_ids)))\n",
    "    \n",
    "    # `encode` will:\n",
    "    #   (1) Tokenize the sentence.\n",
    "    #   (2) Prepend the `[CLS]` token to the start.\n",
    "    #   (3) Append the `[SEP]` token to the end.\n",
    "    #   (4) Map tokens to their IDs.\n",
    "    encoded_sent = tokenizer.encode(\n",
    "                        sen,                      # Sentence to encode.\n",
    "                        add_special_tokens = True, # Add '[CLS]' and '[SEP]'\n",
    "                        #max_length = 512,          # Truncate all sentences.                        \n",
    "                        #return_tensors = 'pt',     # Return pytorch tensors.\n",
    "                   )\n",
    "    \n",
    "    # Add the encoded sentence to the list.\n",
    "    input_ids.append(encoded_sent)\n",
    "\n",
    "    # Record the non-truncated length.\n",
    "    lengths.append(len(encoded_sent))\n",
    "\n",
    "print('DONE.')\n",
    "print('{:>10,} comments'.format(len(input_ids)))"
   ]
  },
  {
   "cell_type": "markdown",
   "metadata": {
    "id": "X_erWZU7hDTB"
   },
   "source": [
    "Let's grab some quick statistics--what are the min, max and median comment lengths?"
   ]
  },
  {
   "cell_type": "code",
   "execution_count": 9,
   "metadata": {
    "colab": {
     "base_uri": "https://localhost:8080/",
     "height": 68
    },
    "id": "qmrQVSsjg6By",
    "outputId": "a3c11656-68c0-405a-b732-0fb6f1a3fd4e"
   },
   "outputs": [
    {
     "name": "stdout",
     "output_type": "stream",
     "text": [
      "   Min length: 2 tokens\n",
      "   Max length: 52,886 tokens\n",
      "Median length: 124.0 tokens\n"
     ]
    }
   ],
   "source": [
    "print('   Min length: {:,} tokens'.format(min(lengths)))\n",
    "print('   Max length: {:,} tokens'.format(max(lengths)))\n",
    "print('Median length: {:,} tokens'.format(np.median(lengths)))"
   ]
  },
  {
   "cell_type": "markdown",
   "metadata": {
    "id": "jIkyE9qjSjk3"
   },
   "source": [
    "What percentage are over the 512 limit?"
   ]
  },
  {
   "cell_type": "code",
   "execution_count": 10,
   "metadata": {
    "colab": {
     "base_uri": "https://localhost:8080/",
     "height": 34
    },
    "id": "DsAV58bZSmEt",
    "outputId": "6d4bdbc4-1e7d-48bb-cd4a-c337de5572dc"
   },
   "outputs": [
    {
     "name": "stdout",
     "output_type": "stream",
     "text": [
      "1,015 of 11,314 comments will be truncated (8.97%)\n"
     ]
    }
   ],
   "source": [
    "num_over = 0\n",
    "\n",
    "# For all of the length values...\n",
    "for length in lengths:\n",
    "    # Tally if it's over 512.\n",
    "    if length > 512:\n",
    "        num_over += 1\n",
    "\n",
    "print('{:,} of {:,} comments will be truncated ({:.2%})'.format(num_over, len(lengths), float(num_over) / float(len(lengths))))"
   ]
  },
  {
   "cell_type": "markdown",
   "metadata": {
    "id": "xytsw1oIfnX0"
   },
   "source": [
    "To further analyze it, let's plot the distribution. To keep the scale of the x-axis reasonable, *we'll clip the lengths to 512.*\n"
   ]
  },
  {
   "cell_type": "code",
   "execution_count": 11,
   "metadata": {
    "colab": {
     "base_uri": "https://localhost:8080/",
     "height": 389
    },
    "id": "iLhi9A49zmsy",
    "outputId": "94b0baf2-3d00-4a0e-bde2-ca2dc418bfd8"
   },
   "outputs": [
    {
     "name": "stderr",
     "output_type": "stream",
     "text": [
      "/home/rafael/Documents/project_master_thesis/chemprot_testing_ground/venv/lib/python3.8/site-packages/seaborn/distributions.py:2557: FutureWarning: `distplot` is a deprecated function and will be removed in a future version. Please adapt your code to use either `displot` (a figure-level function with similar flexibility) or `histplot` (an axes-level function for histograms).\n",
      "  warnings.warn(msg, FutureWarning)\n"
     ]
    },
    {
     "data": {
      "text/plain": [
       "Text(0, 0.5, '# of Comments')"
      ]
     },
     "execution_count": 11,
     "metadata": {},
     "output_type": "execute_result"
    },
    {
     "data": {
      "image/png": "[encoded data removed]",
      "text/plain": [
       "<Figure size 720x360 with 1 Axes>"
      ]
     },
     "metadata": {},
     "output_type": "display_data"
    }
   ],
   "source": [
    "import matplotlib.pyplot as plt\n",
    "import seaborn as sns\n",
    "import numpy as np\n",
    "\n",
    "sns.set(style='darkgrid')\n",
    "\n",
    "# Increase the plot size and font size.\n",
    "sns.set(font_scale=1.5)\n",
    "plt.rcParams[\"figure.figsize\"] = (10,5)\n",
    "\n",
    "# Truncate any comment lengths greater than 512.\n",
    "trunc_lengths = [min(l, 512) for l in lengths]\n",
    "\n",
    "# Plot the distribution of comment lengths.\n",
    "sns.distplot(trunc_lengths, kde=False, rug=False)\n",
    "\n",
    "# Alternatively, you might try using a log scale on the x-axis, but this is \n",
    "# tricky. See here for one approach:\n",
    "# https://stackoverflow.com/questions/47850202/plotting-a-histogram-on-a-log-scale-with-matplotlib?rq=1\n",
    "#plt.xscale('log')\n",
    "\n",
    "plt.title('Comment Lengths')\n",
    "plt.xlabel('Comment Length')\n",
    "plt.ylabel('# of Comments')\n"
   ]
  },
  {
   "cell_type": "markdown",
   "metadata": {
    "id": "lH0TfSYpjYlx"
   },
   "source": [
    "### 3.3. `max_len` & GPU Memory Concerns"
   ]
  },
  {
   "cell_type": "markdown",
   "metadata": {
    "id": "mvuHdXi1CsBB"
   },
   "source": [
    "Given the higher percentage of longer-than-512-tokens samples, I thought it might make sense to try a maximum length of 512 for this example. However, with `batch_size = 32` and `max_len = 512`, I ran into a GPU out-of-memory error on the first iteration of the training loop! \n",
    "\n",
    "After performing some analysis and a number of experiments (which you can see in [part 3](https://colab.research.google.com/drive/1cAcQbTwmDpBYjPYLGRQnWhtBdx2_Aj1O) of the \"Case Study\"), here are some of my conclusions:\n",
    "\n",
    "1. If the combination of your `batch_size` and `max_len` are too high, then you can easily run out of memory (even on a Tesla K80 with 12GB!) when fine-tuning BERT-base. For example, with `batch_size = 16`, a `max_len = ~400` is about the limit on a Tesla K80. \n",
    "2. Reducing `batch_size` reduces memory consumption, but at the cost of slower training, and finding the best choice of `batch_size` appears to be important for accuracy.\n",
    "3. Reducing `max_len` reduces memory consumption and speeds up training, but has a substantial impact on BERT's accuracy on this benchmark. \n",
    "\n",
    "Again, for more details and analysis, see [part 3](https://colab.research.google.com/drive/1cAcQbTwmDpBYjPYLGRQnWhtBdx2_Aj1O) of the case study.\n",
    "\n",
    "I landed on `batch_size = 16` and `max_len = 300` for this example. The Tesla K80 has enough memory for this configuration, and BERT achieves higher accuracy then a simpler baseline classifier (more on that in \"Part III - Performance & Analysis\").\n"
   ]
  },
  {
   "cell_type": "code",
   "execution_count": 12,
   "metadata": {
    "id": "sPN9UmdHCv1w"
   },
   "outputs": [],
   "source": [
    "max_len = 300"
   ]
  },
  {
   "cell_type": "markdown",
   "metadata": {
    "id": "7oQ69-4wU7v-"
   },
   "source": [
    "### 3.4. Perform Tokenization"
   ]
  },
  {
   "cell_type": "markdown",
   "metadata": {
    "id": "tIWAoWL2RK1p"
   },
   "source": [
    "Now we're ready to perform the real tokenization.\n",
    "\n",
    "The `tokenizer.encode_plus` function combines multiple steps for us:\n",
    "\n",
    "1. Split the sentence into tokens.\n",
    "2. Add the special `[CLS]` and `[SEP]` tokens.\n",
    "3. Map the tokens to their IDs.\n",
    "4. Pad or truncate all sentences to the same length.\n",
    "5. Create the attention masks which explicitly differentiate real tokens from `[PAD]` tokens.\n",
    "\n",
    "The first four features are in `tokenizer.encode`, but I'm using `tokenizer.encode_plus` to get the fifth item (attention masks). Documentation is [here](https://huggingface.co/transformers/main_classes/tokenizer.html?highlight=encode_plus#transformers.PreTrainedTokenizer.encode_plus).\n",
    "\n",
    "I generally try to avoid defining functions in my *tutorial* code, but I feel it's warranted here because we'll need to run this step twice--once for the training set and again for the test set--and it's a lot of code / comments to have duplicated.\n"
   ]
  },
  {
   "cell_type": "code",
   "execution_count": 13,
   "metadata": {
    "id": "1ijEWKSYUpHh"
   },
   "outputs": [],
   "source": [
    "def my_tokenize(comments, labels, max_len):\n",
    "    '''\n",
    "    Tokenize a dataset of comments.\n",
    "\n",
    "    Parameters:\n",
    "      `comments` - List of comments, represented as strings.\n",
    "        `labels` - List of integer labels for the corresponding comments.\n",
    "       `max_len` - Truncate all of the comments down to this length.\n",
    "    \n",
    "    Returns:\n",
    "      `input_ids` - All of the comments represented as lists of token IDs,\n",
    "                    padded out to `max_len`, and cast as a PyTorch tensor.\n",
    "         `labels` - The labels for the corresponding comments, formatted as \n",
    "                    a PyTorch tensor.\n",
    "      `attention_masks` - PyTorch tensor with the same dimensions as\n",
    "                          `input_ids`. For each token, simply indicates whether\n",
    "                           it is padding or not.\n",
    "    '''\n",
    "    # Tokenize all of the sentences and map the tokens to thier word IDs.\n",
    "    input_ids = []\n",
    "    attention_masks = []\n",
    "\n",
    "    print('Tokenizing {:,} comments...'.format(len(comments)))\n",
    "\n",
    "    # For every comment (\"sentence\")...\n",
    "    for sent in comments:\n",
    "\n",
    "        # Report progress.\n",
    "        if ((len(input_ids) % 500) == 0):\n",
    "            print('  Tokenized {:,} comments.'.format(len(input_ids)))\n",
    "\n",
    "        # `encode_plus` will:\n",
    "        #   (1) Tokenize the sentence.\n",
    "        #   (2) Prepend the `[CLS]` token to the start.\n",
    "        #   (3) Append the `[SEP]` token to the end.\n",
    "        #   (4) Map tokens to their IDs.\n",
    "        #   (5) Pad or truncate the sentence to `max_length`\n",
    "        #   (6) Create attention masks for [PAD] tokens.\n",
    "        encoded_dict = tokenizer.encode_plus(\n",
    "                            sent,                      # Sentence to encode.\n",
    "                            add_special_tokens = True, # Add '[CLS]' and '[SEP]'\n",
    "                            max_length = max_len,      # Pad & truncate all sentences.\n",
    "                            pad_to_max_length = True,\n",
    "                            return_attention_mask = True,   # Construct attn. masks.\n",
    "                            return_tensors = 'pt',     # Return pytorch tensors.\n",
    "                    )\n",
    "        \n",
    "        # Add the encoded sentence to the list.    \n",
    "        input_ids.append(encoded_dict['input_ids'])\n",
    "        \n",
    "        # And its attention mask (simply differentiates padding from non-padding).\n",
    "        attention_masks.append(encoded_dict['attention_mask'])\n",
    "\n",
    "    # Convert the lists into tensors.\n",
    "    input_ids = torch.cat(input_ids, dim=0)\n",
    "    attention_masks = torch.cat(attention_masks, dim=0)\n",
    "\n",
    "    # Convert the labels to a tensor.\n",
    "    labels = torch.tensor(labels)\n",
    "\n",
    "    return (input_ids, labels, attention_masks)\n"
   ]
  },
  {
   "cell_type": "markdown",
   "metadata": {
    "id": "TT4m3oytdVMK"
   },
   "source": [
    "Now we'll use the above function to actually perform the tokenization of the training comments."
   ]
  },
  {
   "cell_type": "code",
   "execution_count": 14,
   "metadata": {
    "colab": {
     "base_uri": "https://localhost:8080/",
     "height": 425
    },
    "id": "qLSoKse4dIYE",
    "outputId": "18a335c1-803f-4cab-92d8-b53ec80fe158"
   },
   "outputs": [
    {
     "name": "stderr",
     "output_type": "stream",
     "text": [
      "Truncation was not explicitly activated but `max_length` is provided a specific value, please use `truncation=True` to explicitly truncate examples to max length. Defaulting to 'longest_first' truncation strategy. If you encode pairs of sequences (GLUE-style) with the tokenizer you can select this strategy more precisely by providing a specific strategy to `truncation`.\n"
     ]
    },
    {
     "name": "stdout",
     "output_type": "stream",
     "text": [
      "Tokenizing 11,314 comments...\n",
      "  Tokenized 0 comments.\n"
     ]
    },
    {
     "name": "stderr",
     "output_type": "stream",
     "text": [
      "/home/rafael/Documents/project_master_thesis/chemprot_testing_ground/venv/lib/python3.8/site-packages/transformers/tokenization_utils_base.py:2073: FutureWarning: The `pad_to_max_length` argument is deprecated and will be removed in a future version, use `padding=True` or `padding='longest'` to pad to the longest sequence in the batch, or use `padding='max_length'` to pad to a max length. In this case, you can give a specific length with `max_length` (e.g. `max_length=45`) or leave max_length to None to pad to the maximal input size of the model (e.g. 512 for Bert).\n",
      "  warnings.warn(\n"
     ]
    },
    {
     "name": "stdout",
     "output_type": "stream",
     "text": [
      "  Tokenized 500 comments.\n",
      "  Tokenized 1,000 comments.\n",
      "  Tokenized 1,500 comments.\n",
      "  Tokenized 2,000 comments.\n",
      "  Tokenized 2,500 comments.\n",
      "  Tokenized 3,000 comments.\n",
      "  Tokenized 3,500 comments.\n",
      "  Tokenized 4,000 comments.\n",
      "  Tokenized 4,500 comments.\n",
      "  Tokenized 5,000 comments.\n",
      "  Tokenized 5,500 comments.\n",
      "  Tokenized 6,000 comments.\n",
      "  Tokenized 6,500 comments.\n",
      "  Tokenized 7,000 comments.\n",
      "  Tokenized 7,500 comments.\n",
      "  Tokenized 8,000 comments.\n",
      "  Tokenized 8,500 comments.\n",
      "  Tokenized 9,000 comments.\n",
      "  Tokenized 9,500 comments.\n",
      "  Tokenized 10,000 comments.\n",
      "  Tokenized 10,500 comments.\n",
      "  Tokenized 11,000 comments.\n"
     ]
    }
   ],
   "source": [
    "# Tokenize our entire training set.\n",
    "(train_input_ids, \n",
    " train_labels, \n",
    " train_attention_masks) = my_tokenize(train.data, train.target, max_len = max_len)"
   ]
  },
  {
   "cell_type": "markdown",
   "metadata": {
    "id": "xw-UzXM7dcuP"
   },
   "source": [
    "Let's take a peak at one of the training examples."
   ]
  },
  {
   "cell_type": "code",
   "execution_count": 15,
   "metadata": {
    "colab": {
     "base_uri": "https://localhost:8080/",
     "height": 646
    },
    "id": "y1CRcdfqdfGi",
    "outputId": "f6d374bf-6a9a-4ca9-d4de-ea8009079351"
   },
   "outputs": [
    {
     "name": "stdout",
     "output_type": "stream",
     "text": [
      "Original:  I was wondering if anyone out there could enlighten me on this car I saw\n",
      "the other day. It was a 2-door sports car, looked to be from the late 60s/\n",
      "early 70s. It was called a Bricklin. The doors were really small. In addition,\n",
      "the front bumper was separate from the rest of the body. This is \n",
      "all I know. If anyone can tellme a model name, engine specs, years\n",
      "of production, where this car is made, history, or whatever info you\n",
      "have on this funky looking car, please e-mail.\n",
      "Token IDs: tensor([  101,  1045,  2001,  6603,  2065,  3087,  2041,  2045,  2071,  4372,\n",
      "         7138,  2368,  2033,  2006,  2023,  2482,  1045,  2387,  1996,  2060,\n",
      "         2154,  1012,  2009,  2001,  1037,  1016,  1011,  2341,  2998,  2482,\n",
      "         1010,  2246,  2000,  2022,  2013,  1996,  2397, 20341,  1013,  2220,\n",
      "        17549,  1012,  2009,  2001,  2170,  1037,  5318,  4115,  1012,  1996,\n",
      "         4303,  2020,  2428,  2235,  1012,  1999,  2804,  1010,  1996,  2392,\n",
      "        21519,  2001,  3584,  2013,  1996,  2717,  1997,  1996,  2303,  1012,\n",
      "         2023,  2003,  2035,  1045,  2113,  1012,  2065,  3087,  2064,  2425,\n",
      "         4168,  1037,  2944,  2171,  1010,  3194, 28699,  2015,  1010,  2086,\n",
      "         1997,  2537,  1010,  2073,  2023,  2482,  2003,  2081,  1010,  2381,\n",
      "         1010,  2030,  3649, 18558,  2017,  2031,  2006,  2023, 24151,  2559,\n",
      "         2482,  1010,  3531,  1041,  1011,  5653,  1012,   102,     0,     0,\n",
      "            0,     0,     0,     0,     0,     0,     0,     0,     0,     0,\n",
      "            0,     0,     0,     0,     0,     0,     0,     0,     0,     0,\n",
      "            0,     0,     0,     0,     0,     0,     0,     0,     0,     0,\n",
      "            0,     0,     0,     0,     0,     0,     0,     0,     0,     0,\n",
      "            0,     0,     0,     0,     0,     0,     0,     0,     0,     0,\n",
      "            0,     0,     0,     0,     0,     0,     0,     0,     0,     0,\n",
      "            0,     0,     0,     0,     0,     0,     0,     0,     0,     0,\n",
      "            0,     0,     0,     0,     0,     0,     0,     0,     0,     0,\n",
      "            0,     0,     0,     0,     0,     0,     0,     0,     0,     0,\n",
      "            0,     0,     0,     0,     0,     0,     0,     0,     0,     0,\n",
      "            0,     0,     0,     0,     0,     0,     0,     0,     0,     0,\n",
      "            0,     0,     0,     0,     0,     0,     0,     0,     0,     0,\n",
      "            0,     0,     0,     0,     0,     0,     0,     0,     0,     0,\n",
      "            0,     0,     0,     0,     0,     0,     0,     0,     0,     0,\n",
      "            0,     0,     0,     0,     0,     0,     0,     0,     0,     0,\n",
      "            0,     0,     0,     0,     0,     0,     0,     0,     0,     0,\n",
      "            0,     0,     0,     0,     0,     0,     0,     0,     0,     0,\n",
      "            0,     0,     0,     0,     0,     0,     0,     0,     0,     0])\n"
     ]
    }
   ],
   "source": [
    "# Print sentence 0, now as a list of IDs.\n",
    "print('Original: ', train.data[0])\n",
    "print('Token IDs:', train_input_ids[0])"
   ]
  },
  {
   "cell_type": "markdown",
   "metadata": {
    "id": "G7npHp8DaNq-"
   },
   "source": [
    "Let's also tokenize the test dataset while we're at it."
   ]
  },
  {
   "cell_type": "code",
   "execution_count": 16,
   "metadata": {
    "colab": {
     "base_uri": "https://localhost:8080/",
     "height": 306
    },
    "id": "6b7BbQbgaRVB",
    "outputId": "49558a0b-620a-4ca5-e5a2-62939bfb8599"
   },
   "outputs": [
    {
     "name": "stdout",
     "output_type": "stream",
     "text": [
      "Tokenizing 7,532 comments...\n",
      "  Tokenized 0 comments.\n",
      "  Tokenized 500 comments.\n",
      "  Tokenized 1,000 comments.\n",
      "  Tokenized 1,500 comments.\n",
      "  Tokenized 2,000 comments.\n",
      "  Tokenized 2,500 comments.\n",
      "  Tokenized 3,000 comments.\n",
      "  Tokenized 3,500 comments.\n",
      "  Tokenized 4,000 comments.\n",
      "  Tokenized 4,500 comments.\n",
      "  Tokenized 5,000 comments.\n",
      "  Tokenized 5,500 comments.\n",
      "  Tokenized 6,000 comments.\n",
      "  Tokenized 6,500 comments.\n",
      "  Tokenized 7,000 comments.\n",
      "  Tokenized 7,500 comments.\n"
     ]
    }
   ],
   "source": [
    "# Tokenize our entire test set.\n",
    "(test_input_ids, \n",
    " test_labels, \n",
    " test_attention_masks) = my_tokenize(test.data, test.target, max_len = max_len)"
   ]
  },
  {
   "cell_type": "markdown",
   "metadata": {
    "id": "Wl12-BD637Ty"
   },
   "source": [
    "# Part II - BERT Fine-Tuning"
   ]
  },
  {
   "cell_type": "markdown",
   "metadata": {
    "id": "8bwa6Rts-02-"
   },
   "source": [
    "## S4. Train Our Classification Model"
   ]
  },
  {
   "cell_type": "markdown",
   "metadata": {
    "id": "3xYQ3iLO08SX"
   },
   "source": [
    "Now that our input data is properly formatted, it's time to fine tune the BERT model. "
   ]
  },
  {
   "cell_type": "markdown",
   "metadata": {
    "id": "cKetqAKJiwpj"
   },
   "source": [
    "### `check_gpu_mem`"
   ]
  },
  {
   "cell_type": "markdown",
   "metadata": {
    "id": "DDZZgG6ei1wF"
   },
   "source": [
    "The following function will return a table showing the GPU's current memory usage versus its total memory. It uses the `nvidia-smi` command line tool to retrieve this.\n",
    "\n",
    "Note that the memory values are in \"MiB\". 1 MiB = 2^20 bytes = 1,048,576 bytes."
   ]
  },
  {
   "cell_type": "code",
   "execution_count": 17,
   "metadata": {
    "id": "kRJBBgfZiwpl"
   },
   "outputs": [],
   "source": [
    "import os\n",
    "import pandas as pd\n",
    "import csv\n",
    "\n",
    "def check_gpu_mem():\n",
    "    '''\n",
    "    Uses Nvidia's SMI tool to check the current GPU memory usage.\n",
    "    Reported values are in \"MiB\". 1 MiB = 2^20 bytes = 1,048,576 bytes.\n",
    "    '''\n",
    "    \n",
    "    # Run the command line tool and get the results.\n",
    "    buf = os.popen('nvidia-smi --query-gpu=memory.total,memory.used --format=csv')\n",
    "\n",
    "    # Use csv module to read and parse the result.\n",
    "    reader = csv.reader(buf, delimiter=',')\n",
    "\n",
    "    # Use a pandas table just for nice formatting.\n",
    "    df = pd.DataFrame(reader)\n",
    "\n",
    "    # Use the first row as the column headers.\n",
    "    new_header = df.iloc[0] #grab the first row for the header\n",
    "    df = df[1:] #take the data less the header row\n",
    "    df.columns = new_header #set the header row as the df header\n",
    "\n",
    "    # Display the formatted table.\n",
    "    #display(df)\n",
    "\n",
    "    return df\n"
   ]
  },
  {
   "cell_type": "markdown",
   "metadata": {
    "id": "D6TKgyUzPIQc"
   },
   "source": [
    "### 4.1. Load Pre-Trained Model"
   ]
  },
  {
   "cell_type": "markdown",
   "metadata": {
    "id": "BXYitPoE-cjH"
   },
   "source": [
    "As usual, for text classification, we'll be using [BertForSequenceClassification](https://huggingface.co/transformers/model_doc/bert.html#bertforsequenceclassification). \n"
   ]
  },
  {
   "cell_type": "markdown",
   "metadata": {
    "id": "aNW2tFMZHedj"
   },
   "source": [
    "\n",
    "**Output Classifier**\n",
    "\n",
    "Because this is a **multi-class** example, the `transformers` class will add a **Softmax Regression classifier** onto the end of the pre-trained BERT model. \n",
    "\n",
    "The Softmax Regression classifier is designed to accomodate the fact that *only one class* is the correct label. It outputs probabilities for each class, which all sum to 1.0.  \n",
    "\n",
    "[![SoftMax Regression](https://drive.google.com/uc?export=view&id=1TlWV75wB_HZxB-JHhN_mWdqlwZRqVffS)](https://drive.google.com/uc?export=view&id=1TlWV75wB_HZxB-JHhN_mWdqlwZRqVffS)\n",
    "\n",
    "The fact that this is a multi-class example is communicated through the `num_labels = 20` parameter in the next code cell. \n",
    "\n"
   ]
  },
  {
   "cell_type": "markdown",
   "metadata": {
    "id": "7xFPk4RDHcnH"
   },
   "source": [
    "\n",
    "**Model Variant**\n",
    "\n",
    "We'll use \"bert-base-uncased\" for this example, the version that has only lowercase letters (\"uncased\") and is the smaller version of the two (\"base\" vs \"large\").\n",
    "\n",
    "The documentation for `from_pretrained` can be found [here](https://huggingface.co/transformers/v2.2.0/main_classes/model.html#transformers.PreTrainedModel.from_pretrained), with the additional parameters defined [here](https://huggingface.co/transformers/v2.2.0/main_classes/configuration.html#transformers.PretrainedConfig).\n",
    "\n",
    "During fine-tuning, the entire pre-trained BERT model and the additional untrained classification layer is trained on our specific task. \n"
   ]
  },
  {
   "cell_type": "code",
   "execution_count": 18,
   "metadata": {
    "colab": {
     "base_uri": "https://localhost:8080/",
     "height": 115,
     "referenced_widgets": [
      "e56d11573409479c96fa61299e531ff2",
      "48efb8fcc58948a19d7a42f5ddf439b0",
      "bc44a9a24edd4a2b81f0abb6ea8e0a1a",
      "904869e0fdf74b699d91685dd77cf488",
      "93180cc77d384fb09b400b3acd6dfade",
      "293440e19666450d9e93cadb10af6dc8",
      "5af3ce0b7305447fba23a6ef42ea8d8a",
      "955be4821556481c9bf509520e704339",
      "b4a3e68c591a4684a05674383833c327",
      "8615f37fe15749bbb229bbfa71d55bd8",
      "eafc86cf216a4ed48dc2b42807b631b6",
      "e4435d1129bd4db1a0731f13f51b2cb9",
      "9707e35d55c14608be12a2115cb2cb3f",
      "cb2ed22245e04baa88c20a5fc82609db",
      "770a584c4966492a917e8b5aa4127b70",
      "aa335525f2ee43e198e09a3820dfdfdd"
     ]
    },
    "id": "gFsCTp_mporB",
    "outputId": "1aba405f-90a4-4e0b-aee7-59452bb8260b"
   },
   "outputs": [
    {
     "name": "stderr",
     "output_type": "stream",
     "text": [
      "2021-08-10 22:22:18.205336: I tensorflow/stream_executor/platform/default/dso_loader.cc:53] Successfully opened dynamic library libcudart.so.11.0\n",
      "Some weights of the model checkpoint at bert-base-uncased were not used when initializing BertForSequenceClassification: ['cls.predictions.bias', 'cls.predictions.transform.dense.weight', 'cls.predictions.transform.dense.bias', 'cls.predictions.decoder.weight', 'cls.seq_relationship.weight', 'cls.seq_relationship.bias', 'cls.predictions.transform.LayerNorm.weight', 'cls.predictions.transform.LayerNorm.bias']\n",
      "- This IS expected if you are initializing BertForSequenceClassification from the checkpoint of a model trained on another task or with another architecture (e.g. initializing a BertForSequenceClassification model from a BertForPreTraining model).\n",
      "- This IS NOT expected if you are initializing BertForSequenceClassification from the checkpoint of a model that you expect to be exactly identical (initializing a BertForSequenceClassification model from a BertForSequenceClassification model).\n",
      "Some weights of BertForSequenceClassification were not initialized from the model checkpoint at bert-base-uncased and are newly initialized: ['classifier.weight', 'classifier.bias']\n",
      "You should probably TRAIN this model on a down-stream task to be able to use it for predictions and inference.\n"
     ]
    }
   ],
   "source": [
    "from transformers import BertForSequenceClassification, AdamW, BertConfig\n",
    "\n",
    "# Load BertForSequenceClassification, the pretrained BERT model with a single \n",
    "# linear classification layer on top. \n",
    "model = BertForSequenceClassification.from_pretrained(\n",
    "    \"bert-base-uncased\", # Use the 12-layer BERT model, with an uncased vocab.\n",
    "    num_labels = 20, # For our 20 newsgroups!\n",
    "    output_attentions = False, # Whether the model returns attentions weights.\n",
    "    output_hidden_states = False, # Whether the model returns all hidden-states.\n",
    ")\n",
    "\n",
    "# Tell pytorch to run this model on the GPU.\n",
    "desc = model.cuda()"
   ]
  },
  {
   "cell_type": "code",
   "execution_count": 19,
   "metadata": {
    "colab": {
     "base_uri": "https://localhost:8080/",
     "height": 80
    },
    "id": "lbmX98ovPy2d",
    "outputId": "5bda0b40-8fb5-4452-9001-7bb43069c937"
   },
   "outputs": [
    {
     "data": {
      "text/html": [
       "<div>\n",
       "<style scoped>\n",
       "    .dataframe tbody tr th:only-of-type {\n",
       "        vertical-align: middle;\n",
       "    }\n",
       "\n",
       "    .dataframe tbody tr th {\n",
       "        vertical-align: top;\n",
       "    }\n",
       "\n",
       "    .dataframe thead th {\n",
       "        text-align: right;\n",
       "    }\n",
       "</style>\n",
       "<table border=\"1\" class=\"dataframe\">\n",
       "  <thead>\n",
       "    <tr style=\"text-align: right;\">\n",
       "      <th></th>\n",
       "      <th>memory.total [MiB]</th>\n",
       "      <th>memory.used [MiB]</th>\n",
       "    </tr>\n",
       "  </thead>\n",
       "  <tbody>\n",
       "    <tr>\n",
       "      <th>1</th>\n",
       "      <td>5917 MiB</td>\n",
       "      <td>2403 MiB</td>\n",
       "    </tr>\n",
       "  </tbody>\n",
       "</table>\n",
       "</div>"
      ],
      "text/plain": [
       "0 memory.total [MiB]  memory.used [MiB]\n",
       "1           5917 MiB           2403 MiB"
      ]
     },
     "execution_count": 19,
     "metadata": {},
     "output_type": "execute_result"
    }
   ],
   "source": [
    "check_gpu_mem()"
   ]
  },
  {
   "cell_type": "markdown",
   "metadata": {
    "id": "aRp4O7D295d_"
   },
   "source": [
    "### 4.2. Splitting off a Validation Set\n"
   ]
  },
  {
   "cell_type": "markdown",
   "metadata": {
    "id": "qu0ao7p8rb06"
   },
   "source": [
    "This dataset already has a train / test split, but we're going to further divide up our training set to use 90% for training and 10% for *validation*. This validation set will help us detect over-fitting during the training process."
   ]
  },
  {
   "cell_type": "code",
   "execution_count": 20,
   "metadata": {
    "colab": {
     "base_uri": "https://localhost:8080/",
     "height": 51
    },
    "id": "GEgLpFVlo1Z-",
    "outputId": "5fadb120-dead-4c55-928f-44c8b4399847"
   },
   "outputs": [
    {
     "name": "stdout",
     "output_type": "stream",
     "text": [
      "10,182 training samples\n",
      "1,132 validation samples\n"
     ]
    }
   ],
   "source": [
    "from torch.utils.data import TensorDataset, random_split\n",
    "\n",
    "# Combine the training inputs into a TensorDataset.\n",
    "dataset = TensorDataset(train_input_ids, train_attention_masks, train_labels)\n",
    "\n",
    "# Create a 90-10 train-validation split.\n",
    "\n",
    "# Calculate the number of samples to include in each set.\n",
    "train_size = int(0.9 * len(dataset))\n",
    "val_size = len(dataset) - train_size\n",
    "\n",
    "# Divide the dataset by randomly selecting samples.\n",
    "train_dataset, val_dataset = random_split(dataset, [train_size, val_size])\n",
    "\n",
    "print('{:>5,} training samples'.format(train_size))\n",
    "print('{:>5,} validation samples'.format(val_size))"
   ]
  },
  {
   "cell_type": "markdown",
   "metadata": {
    "id": "ejHQThm_uVnB"
   },
   "source": [
    "### 4.3. Batch Size & DataLoaders"
   ]
  },
  {
   "cell_type": "markdown",
   "metadata": {
    "id": "dD9i6Z2pG-sN"
   },
   "source": [
    "We'll also create an iterator for our dataset using the torch DataLoader class. This helps save on memory during training because, unlike a for loop, with an iterator the entire dataset does not need to be loaded into memory.\n",
    "\n",
    "This is also the point at which we must specify our **batch size**, since this is integral to the data loaders."
   ]
  },
  {
   "cell_type": "code",
   "execution_count": 21,
   "metadata": {
    "id": "XGUqOCtgqGhP"
   },
   "outputs": [],
   "source": [
    "from torch.utils.data import DataLoader, RandomSampler, SequentialSampler\n",
    "\n",
    "# The DataLoader needs to know our batch size for training, so we specify it \n",
    "# here. For fine-tuning BERT on a specific task, the authors recommend a batch \n",
    "# size of 16 or 32.\n",
    "batch_size = 16\n",
    "\n",
    "# Create the DataLoaders for our training and validation sets.\n",
    "# We'll take training samples in random order. \n",
    "train_dataloader = DataLoader(\n",
    "            train_dataset,  # The training samples.\n",
    "            sampler = RandomSampler(train_dataset), # Select batches randomly\n",
    "            batch_size = batch_size # Trains with this batch size.\n",
    "        )\n",
    "\n",
    "# For validation the order doesn't matter, so we'll just read them sequentially.\n",
    "validation_dataloader = DataLoader(\n",
    "            val_dataset, # The validation samples.\n",
    "            sampler = SequentialSampler(val_dataset), # Pull out batches sequentially.\n",
    "            batch_size = batch_size # Evaluate with this batch size.\n",
    "        )"
   ]
  },
  {
   "cell_type": "markdown",
   "metadata": {
    "id": "qRWT-D4U_Pvx"
   },
   "source": [
    "### 4.4. Optimizer\n"
   ]
  },
  {
   "cell_type": "markdown",
   "metadata": {
    "id": "8o-VEBobKwHk"
   },
   "source": [
    "Our `model` object handles the execution of a forward pass, and the calculation of gradients during training. \n",
    "\n",
    "The actual updates to the model's weights, however, are performed by an Optimizer object. Here, we create that object and give it a reference to our model's parameters, as well as set some of our training hyperparameters.\n",
    "\n",
    "For the purposes of fine-tuning, the authors recommend choosing from the following values:\n",
    "- Batch size: 16, 32 \n",
    "- Learning rate (Adam): 5e-5, 3e-5, 2e-5  (We'll use 2e-5).\n",
    "- Number of epochs: 2, 3, 4  (We'll use 4). This is a parameter to the \"learning rate scheduler\" in the section.\n",
    "\n",
    "The epsilon parameter `eps = 1e-8` is \"a very small number to prevent any division by zero in the implementation\" (from [here](https://machinelearningmastery.com/adam-optimization-algorithm-for-deep-learning/)).\n",
    "\n",
    "You can find the creation of the AdamW optimizer in `run_glue.py` [here](https://github.com/huggingface/transformers/blob/5bfcd0485ece086ebcbed2d008813037968a9e58/examples/run_glue.py#L109)."
   ]
  },
  {
   "cell_type": "code",
   "execution_count": 22,
   "metadata": {
    "id": "GLs72DuMODJO"
   },
   "outputs": [],
   "source": [
    "# Note: AdamW is a class from the huggingface library (as opposed to pytorch) \n",
    "# I believe the 'W' stands for 'Weight Decay fix\"\n",
    "optimizer = AdamW(model.parameters(),\n",
    "                  lr = 2e-5, # args.learning_rate - default is 5e-5\n",
    "                  eps = 1e-8 # args.adam_epsilon  - default is 1e-8.\n",
    "                )"
   ]
  },
  {
   "cell_type": "markdown",
   "metadata": {
    "id": "_iaG0A5quuqz"
   },
   "source": [
    "### 4.5. Epochs & Learning Rate Scheduler"
   ]
  },
  {
   "cell_type": "markdown",
   "metadata": {
    "id": "JGeSUdv_wDgF"
   },
   "source": [
    "The learning rate scheduler is responsible for updating the learning rate over the course of the training. Generally speaking, you want the learning rate to gradually get smaller and smaller so that training makes gradually finer adjustments to the weights. \n",
    "\n",
    "This decay needs to happen *across all of the training epochs*, so this is where we need to specify the number of epochs we want to train for. "
   ]
  },
  {
   "cell_type": "code",
   "execution_count": 23,
   "metadata": {
    "id": "-p0upAhhRiIx"
   },
   "outputs": [],
   "source": [
    "from transformers import get_linear_schedule_with_warmup\n",
    "\n",
    "# Number of training epochs (authors recommend between 2 and 4)\n",
    "epochs = 4\n",
    "\n",
    "# Total number of training steps is number of batches * number of epochs.\n",
    "total_steps = len(train_dataloader) * epochs\n",
    "\n",
    "# Create the learning rate scheduler.\n",
    "scheduler = get_linear_schedule_with_warmup(optimizer, \n",
    "                                            num_warmup_steps = 0, # Default value in run_glue.py\n",
    "                                            num_training_steps = total_steps)"
   ]
  },
  {
   "cell_type": "markdown",
   "metadata": {
    "id": "_QXZhFb4LnV5"
   },
   "source": [
    "**Helper Functions**\n",
    "\n",
    "In each pass, we will train the model on our full training set, and then measure it's accuracy on our 10% holdout validation set. We'll define a helper function for calculating accuracy on the *validation* set."
   ]
  },
  {
   "cell_type": "code",
   "execution_count": 24,
   "metadata": {
    "id": "9cQNvaZ9bnyy"
   },
   "outputs": [],
   "source": [
    "import numpy as np\n",
    "\n",
    "# Function to calculate the accuracy of our predictions vs labels\n",
    "def flat_accuracy(preds, labels):\n",
    "    pred_flat = np.argmax(preds, axis=1).flatten()\n",
    "    labels_flat = labels.flatten()\n",
    "    return np.sum(pred_flat == labels_flat) / len(labels_flat)"
   ]
  },
  {
   "cell_type": "markdown",
   "metadata": {
    "id": "KNhRtWPXH9C3"
   },
   "source": [
    "Helper function for formatting elapsed times.\n"
   ]
  },
  {
   "cell_type": "code",
   "execution_count": 25,
   "metadata": {
    "id": "gpt6tR83keZD"
   },
   "outputs": [],
   "source": [
    "import time\n",
    "import datetime\n",
    "\n",
    "def format_time(elapsed):\n",
    "    '''\n",
    "    Takes a time in seconds and returns a string hh:mm:ss\n",
    "    '''\n",
    "    # Round to the nearest second.\n",
    "    elapsed_rounded = int(round((elapsed)))\n",
    "    \n",
    "    # Format as hh:mm:ss\n",
    "    return str(datetime.timedelta(seconds=elapsed_rounded))\n"
   ]
  },
  {
   "cell_type": "markdown",
   "metadata": {
    "id": "RqfmWwUR_Sox"
   },
   "source": [
    "### 4.5. Training Loop"
   ]
  },
  {
   "cell_type": "markdown",
   "metadata": {
    "id": "cfNIhN19te3N"
   },
   "source": [
    "We're ready to kick off the training!\n",
    "\n",
    "For addressing our **GPU memory issue**, I've added some calls to `check_gpu_mem` during the training process. "
   ]
  },
  {
   "cell_type": "code",
   "execution_count": 26,
   "metadata": {
    "colab": {
     "base_uri": "https://localhost:8080/",
     "height": 1000
    },
    "id": "WiDKq4cLQG6H",
    "outputId": "76e2089b-5792-48a4-d8b1-a0e5772197cf"
   },
   "outputs": [
    {
     "name": "stdout",
     "output_type": "stream",
     "text": [
      "\n",
      "======== Epoch 1 / 4 ========\n",
      "Training...\n",
      "\n",
      "  Step 0 GPU Memory Use:\n",
      "    Before forward-pass:  2405 MiB\n"
     ]
    },
    {
     "ename": "RuntimeError",
     "evalue": "CUDA out of memory. Tried to allocate 16.00 MiB (GPU 0; 5.78 GiB total capacity; 3.55 GiB already allocated; 32.12 MiB free; 3.75 GiB reserved in total by PyTorch)",
     "output_type": "error",
     "traceback": [
      "\u001b[0;31m---------------------------------------------------------------------------\u001b[0m",
      "\u001b[0;31mRuntimeError\u001b[0m                              Traceback (most recent call last)",
      "\u001b[0;32m/tmp/ipykernel_26319/2993038373.py\u001b[0m in \u001b[0;36m<module>\u001b[0;34m\u001b[0m\n\u001b[1;32m     85\u001b[0m         \u001b[0;31m# the loss (because we provided labels) and the \"logits\"--the model\u001b[0m\u001b[0;34m\u001b[0m\u001b[0;34m\u001b[0m\u001b[0;34m\u001b[0m\u001b[0m\n\u001b[1;32m     86\u001b[0m         \u001b[0;31m# outputs prior to activation.\u001b[0m\u001b[0;34m\u001b[0m\u001b[0;34m\u001b[0m\u001b[0;34m\u001b[0m\u001b[0m\n\u001b[0;32m---> 87\u001b[0;31m         loss, logits = model(b_input_ids, \n\u001b[0m\u001b[1;32m     88\u001b[0m                              \u001b[0mtoken_type_ids\u001b[0m\u001b[0;34m=\u001b[0m\u001b[0;32mNone\u001b[0m\u001b[0;34m,\u001b[0m\u001b[0;34m\u001b[0m\u001b[0;34m\u001b[0m\u001b[0m\n\u001b[1;32m     89\u001b[0m                              \u001b[0mattention_mask\u001b[0m\u001b[0;34m=\u001b[0m\u001b[0mb_input_mask\u001b[0m\u001b[0;34m,\u001b[0m\u001b[0;34m\u001b[0m\u001b[0;34m\u001b[0m\u001b[0m\n",
      "\u001b[0;32m~/Documents/project_master_thesis/chemprot_testing_ground/venv/lib/python3.8/site-packages/torch/nn/modules/module.py\u001b[0m in \u001b[0;36m_call_impl\u001b[0;34m(self, *input, **kwargs)\u001b[0m\n\u001b[1;32m    887\u001b[0m             \u001b[0mresult\u001b[0m \u001b[0;34m=\u001b[0m \u001b[0mself\u001b[0m\u001b[0;34m.\u001b[0m\u001b[0m_slow_forward\u001b[0m\u001b[0;34m(\u001b[0m\u001b[0;34m*\u001b[0m\u001b[0minput\u001b[0m\u001b[0;34m,\u001b[0m \u001b[0;34m**\u001b[0m\u001b[0mkwargs\u001b[0m\u001b[0;34m)\u001b[0m\u001b[0;34m\u001b[0m\u001b[0;34m\u001b[0m\u001b[0m\n\u001b[1;32m    888\u001b[0m         \u001b[0;32melse\u001b[0m\u001b[0;34m:\u001b[0m\u001b[0;34m\u001b[0m\u001b[0;34m\u001b[0m\u001b[0m\n\u001b[0;32m--> 889\u001b[0;31m             \u001b[0mresult\u001b[0m \u001b[0;34m=\u001b[0m \u001b[0mself\u001b[0m\u001b[0;34m.\u001b[0m\u001b[0mforward\u001b[0m\u001b[0;34m(\u001b[0m\u001b[0;34m*\u001b[0m\u001b[0minput\u001b[0m\u001b[0;34m,\u001b[0m \u001b[0;34m**\u001b[0m\u001b[0mkwargs\u001b[0m\u001b[0;34m)\u001b[0m\u001b[0;34m\u001b[0m\u001b[0;34m\u001b[0m\u001b[0m\n\u001b[0m\u001b[1;32m    890\u001b[0m         for hook in itertools.chain(\n\u001b[1;32m    891\u001b[0m                 \u001b[0m_global_forward_hooks\u001b[0m\u001b[0;34m.\u001b[0m\u001b[0mvalues\u001b[0m\u001b[0;34m(\u001b[0m\u001b[0;34m)\u001b[0m\u001b[0;34m,\u001b[0m\u001b[0;34m\u001b[0m\u001b[0;34m\u001b[0m\u001b[0m\n",
      "\u001b[0;32m~/Documents/project_master_thesis/chemprot_testing_ground/venv/lib/python3.8/site-packages/transformers/models/bert/modeling_bert.py\u001b[0m in \u001b[0;36mforward\u001b[0;34m(self, input_ids, attention_mask, token_type_ids, position_ids, head_mask, inputs_embeds, labels, output_attentions, output_hidden_states, return_dict)\u001b[0m\n\u001b[1;32m   1499\u001b[0m         \u001b[0mreturn_dict\u001b[0m \u001b[0;34m=\u001b[0m \u001b[0mreturn_dict\u001b[0m \u001b[0;32mif\u001b[0m \u001b[0mreturn_dict\u001b[0m \u001b[0;32mis\u001b[0m \u001b[0;32mnot\u001b[0m \u001b[0;32mNone\u001b[0m \u001b[0;32melse\u001b[0m \u001b[0mself\u001b[0m\u001b[0;34m.\u001b[0m\u001b[0mconfig\u001b[0m\u001b[0;34m.\u001b[0m\u001b[0muse_return_dict\u001b[0m\u001b[0;34m\u001b[0m\u001b[0;34m\u001b[0m\u001b[0m\n\u001b[1;32m   1500\u001b[0m \u001b[0;34m\u001b[0m\u001b[0m\n\u001b[0;32m-> 1501\u001b[0;31m         outputs = self.bert(\n\u001b[0m\u001b[1;32m   1502\u001b[0m             \u001b[0minput_ids\u001b[0m\u001b[0;34m,\u001b[0m\u001b[0;34m\u001b[0m\u001b[0;34m\u001b[0m\u001b[0m\n\u001b[1;32m   1503\u001b[0m             \u001b[0mattention_mask\u001b[0m\u001b[0;34m=\u001b[0m\u001b[0mattention_mask\u001b[0m\u001b[0;34m,\u001b[0m\u001b[0;34m\u001b[0m\u001b[0;34m\u001b[0m\u001b[0m\n",
      "\u001b[0;32m~/Documents/project_master_thesis/chemprot_testing_ground/venv/lib/python3.8/site-packages/torch/nn/modules/module.py\u001b[0m in \u001b[0;36m_call_impl\u001b[0;34m(self, *input, **kwargs)\u001b[0m\n\u001b[1;32m    887\u001b[0m             \u001b[0mresult\u001b[0m \u001b[0;34m=\u001b[0m \u001b[0mself\u001b[0m\u001b[0;34m.\u001b[0m\u001b[0m_slow_forward\u001b[0m\u001b[0;34m(\u001b[0m\u001b[0;34m*\u001b[0m\u001b[0minput\u001b[0m\u001b[0;34m,\u001b[0m \u001b[0;34m**\u001b[0m\u001b[0mkwargs\u001b[0m\u001b[0;34m)\u001b[0m\u001b[0;34m\u001b[0m\u001b[0;34m\u001b[0m\u001b[0m\n\u001b[1;32m    888\u001b[0m         \u001b[0;32melse\u001b[0m\u001b[0;34m:\u001b[0m\u001b[0;34m\u001b[0m\u001b[0;34m\u001b[0m\u001b[0m\n\u001b[0;32m--> 889\u001b[0;31m             \u001b[0mresult\u001b[0m \u001b[0;34m=\u001b[0m \u001b[0mself\u001b[0m\u001b[0;34m.\u001b[0m\u001b[0mforward\u001b[0m\u001b[0;34m(\u001b[0m\u001b[0;34m*\u001b[0m\u001b[0minput\u001b[0m\u001b[0;34m,\u001b[0m \u001b[0;34m**\u001b[0m\u001b[0mkwargs\u001b[0m\u001b[0;34m)\u001b[0m\u001b[0;34m\u001b[0m\u001b[0;34m\u001b[0m\u001b[0m\n\u001b[0m\u001b[1;32m    890\u001b[0m         for hook in itertools.chain(\n\u001b[1;32m    891\u001b[0m                 \u001b[0m_global_forward_hooks\u001b[0m\u001b[0;34m.\u001b[0m\u001b[0mvalues\u001b[0m\u001b[0;34m(\u001b[0m\u001b[0;34m)\u001b[0m\u001b[0;34m,\u001b[0m\u001b[0;34m\u001b[0m\u001b[0;34m\u001b[0m\u001b[0m\n",
      "\u001b[0;32m~/Documents/project_master_thesis/chemprot_testing_ground/venv/lib/python3.8/site-packages/transformers/models/bert/modeling_bert.py\u001b[0m in \u001b[0;36mforward\u001b[0;34m(self, input_ids, attention_mask, token_type_ids, position_ids, head_mask, inputs_embeds, encoder_hidden_states, encoder_attention_mask, past_key_values, use_cache, output_attentions, output_hidden_states, return_dict)\u001b[0m\n\u001b[1;32m    969\u001b[0m             \u001b[0mpast_key_values_length\u001b[0m\u001b[0;34m=\u001b[0m\u001b[0mpast_key_values_length\u001b[0m\u001b[0;34m,\u001b[0m\u001b[0;34m\u001b[0m\u001b[0;34m\u001b[0m\u001b[0m\n\u001b[1;32m    970\u001b[0m         )\n\u001b[0;32m--> 971\u001b[0;31m         encoder_outputs = self.encoder(\n\u001b[0m\u001b[1;32m    972\u001b[0m             \u001b[0membedding_output\u001b[0m\u001b[0;34m,\u001b[0m\u001b[0;34m\u001b[0m\u001b[0;34m\u001b[0m\u001b[0m\n\u001b[1;32m    973\u001b[0m             \u001b[0mattention_mask\u001b[0m\u001b[0;34m=\u001b[0m\u001b[0mextended_attention_mask\u001b[0m\u001b[0;34m,\u001b[0m\u001b[0;34m\u001b[0m\u001b[0;34m\u001b[0m\u001b[0m\n",
      "\u001b[0;32m~/Documents/project_master_thesis/chemprot_testing_ground/venv/lib/python3.8/site-packages/torch/nn/modules/module.py\u001b[0m in \u001b[0;36m_call_impl\u001b[0;34m(self, *input, **kwargs)\u001b[0m\n\u001b[1;32m    887\u001b[0m             \u001b[0mresult\u001b[0m \u001b[0;34m=\u001b[0m \u001b[0mself\u001b[0m\u001b[0;34m.\u001b[0m\u001b[0m_slow_forward\u001b[0m\u001b[0;34m(\u001b[0m\u001b[0;34m*\u001b[0m\u001b[0minput\u001b[0m\u001b[0;34m,\u001b[0m \u001b[0;34m**\u001b[0m\u001b[0mkwargs\u001b[0m\u001b[0;34m)\u001b[0m\u001b[0;34m\u001b[0m\u001b[0;34m\u001b[0m\u001b[0m\n\u001b[1;32m    888\u001b[0m         \u001b[0;32melse\u001b[0m\u001b[0;34m:\u001b[0m\u001b[0;34m\u001b[0m\u001b[0;34m\u001b[0m\u001b[0m\n\u001b[0;32m--> 889\u001b[0;31m             \u001b[0mresult\u001b[0m \u001b[0;34m=\u001b[0m \u001b[0mself\u001b[0m\u001b[0;34m.\u001b[0m\u001b[0mforward\u001b[0m\u001b[0;34m(\u001b[0m\u001b[0;34m*\u001b[0m\u001b[0minput\u001b[0m\u001b[0;34m,\u001b[0m \u001b[0;34m**\u001b[0m\u001b[0mkwargs\u001b[0m\u001b[0;34m)\u001b[0m\u001b[0;34m\u001b[0m\u001b[0;34m\u001b[0m\u001b[0m\n\u001b[0m\u001b[1;32m    890\u001b[0m         for hook in itertools.chain(\n\u001b[1;32m    891\u001b[0m                 \u001b[0m_global_forward_hooks\u001b[0m\u001b[0;34m.\u001b[0m\u001b[0mvalues\u001b[0m\u001b[0;34m(\u001b[0m\u001b[0;34m)\u001b[0m\u001b[0;34m,\u001b[0m\u001b[0;34m\u001b[0m\u001b[0;34m\u001b[0m\u001b[0m\n",
      "\u001b[0;32m~/Documents/project_master_thesis/chemprot_testing_ground/venv/lib/python3.8/site-packages/transformers/models/bert/modeling_bert.py\u001b[0m in \u001b[0;36mforward\u001b[0;34m(self, hidden_states, attention_mask, head_mask, encoder_hidden_states, encoder_attention_mask, past_key_values, use_cache, output_attentions, output_hidden_states, return_dict)\u001b[0m\n\u001b[1;32m    566\u001b[0m                 )\n\u001b[1;32m    567\u001b[0m             \u001b[0;32melse\u001b[0m\u001b[0;34m:\u001b[0m\u001b[0;34m\u001b[0m\u001b[0;34m\u001b[0m\u001b[0m\n\u001b[0;32m--> 568\u001b[0;31m                 layer_outputs = layer_module(\n\u001b[0m\u001b[1;32m    569\u001b[0m                     \u001b[0mhidden_states\u001b[0m\u001b[0;34m,\u001b[0m\u001b[0;34m\u001b[0m\u001b[0;34m\u001b[0m\u001b[0m\n\u001b[1;32m    570\u001b[0m                     \u001b[0mattention_mask\u001b[0m\u001b[0;34m,\u001b[0m\u001b[0;34m\u001b[0m\u001b[0;34m\u001b[0m\u001b[0m\n",
      "\u001b[0;32m~/Documents/project_master_thesis/chemprot_testing_ground/venv/lib/python3.8/site-packages/torch/nn/modules/module.py\u001b[0m in \u001b[0;36m_call_impl\u001b[0;34m(self, *input, **kwargs)\u001b[0m\n\u001b[1;32m    887\u001b[0m             \u001b[0mresult\u001b[0m \u001b[0;34m=\u001b[0m \u001b[0mself\u001b[0m\u001b[0;34m.\u001b[0m\u001b[0m_slow_forward\u001b[0m\u001b[0;34m(\u001b[0m\u001b[0;34m*\u001b[0m\u001b[0minput\u001b[0m\u001b[0;34m,\u001b[0m \u001b[0;34m**\u001b[0m\u001b[0mkwargs\u001b[0m\u001b[0;34m)\u001b[0m\u001b[0;34m\u001b[0m\u001b[0;34m\u001b[0m\u001b[0m\n\u001b[1;32m    888\u001b[0m         \u001b[0;32melse\u001b[0m\u001b[0;34m:\u001b[0m\u001b[0;34m\u001b[0m\u001b[0;34m\u001b[0m\u001b[0m\n\u001b[0;32m--> 889\u001b[0;31m             \u001b[0mresult\u001b[0m \u001b[0;34m=\u001b[0m \u001b[0mself\u001b[0m\u001b[0;34m.\u001b[0m\u001b[0mforward\u001b[0m\u001b[0;34m(\u001b[0m\u001b[0;34m*\u001b[0m\u001b[0minput\u001b[0m\u001b[0;34m,\u001b[0m \u001b[0;34m**\u001b[0m\u001b[0mkwargs\u001b[0m\u001b[0;34m)\u001b[0m\u001b[0;34m\u001b[0m\u001b[0;34m\u001b[0m\u001b[0m\n\u001b[0m\u001b[1;32m    890\u001b[0m         for hook in itertools.chain(\n\u001b[1;32m    891\u001b[0m                 \u001b[0m_global_forward_hooks\u001b[0m\u001b[0;34m.\u001b[0m\u001b[0mvalues\u001b[0m\u001b[0;34m(\u001b[0m\u001b[0;34m)\u001b[0m\u001b[0;34m,\u001b[0m\u001b[0;34m\u001b[0m\u001b[0;34m\u001b[0m\u001b[0m\n",
      "\u001b[0;32m~/Documents/project_master_thesis/chemprot_testing_ground/venv/lib/python3.8/site-packages/transformers/models/bert/modeling_bert.py\u001b[0m in \u001b[0;36mforward\u001b[0;34m(self, hidden_states, attention_mask, head_mask, encoder_hidden_states, encoder_attention_mask, past_key_value, output_attentions)\u001b[0m\n\u001b[1;32m    454\u001b[0m         \u001b[0;31m# decoder uni-directional self-attention cached key/values tuple is at positions 1,2\u001b[0m\u001b[0;34m\u001b[0m\u001b[0;34m\u001b[0m\u001b[0;34m\u001b[0m\u001b[0m\n\u001b[1;32m    455\u001b[0m         \u001b[0mself_attn_past_key_value\u001b[0m \u001b[0;34m=\u001b[0m \u001b[0mpast_key_value\u001b[0m\u001b[0;34m[\u001b[0m\u001b[0;34m:\u001b[0m\u001b[0;36m2\u001b[0m\u001b[0;34m]\u001b[0m \u001b[0;32mif\u001b[0m \u001b[0mpast_key_value\u001b[0m \u001b[0;32mis\u001b[0m \u001b[0;32mnot\u001b[0m \u001b[0;32mNone\u001b[0m \u001b[0;32melse\u001b[0m \u001b[0;32mNone\u001b[0m\u001b[0;34m\u001b[0m\u001b[0;34m\u001b[0m\u001b[0m\n\u001b[0;32m--> 456\u001b[0;31m         self_attention_outputs = self.attention(\n\u001b[0m\u001b[1;32m    457\u001b[0m             \u001b[0mhidden_states\u001b[0m\u001b[0;34m,\u001b[0m\u001b[0;34m\u001b[0m\u001b[0;34m\u001b[0m\u001b[0m\n\u001b[1;32m    458\u001b[0m             \u001b[0mattention_mask\u001b[0m\u001b[0;34m,\u001b[0m\u001b[0;34m\u001b[0m\u001b[0;34m\u001b[0m\u001b[0m\n",
      "\u001b[0;32m~/Documents/project_master_thesis/chemprot_testing_ground/venv/lib/python3.8/site-packages/torch/nn/modules/module.py\u001b[0m in \u001b[0;36m_call_impl\u001b[0;34m(self, *input, **kwargs)\u001b[0m\n\u001b[1;32m    887\u001b[0m             \u001b[0mresult\u001b[0m \u001b[0;34m=\u001b[0m \u001b[0mself\u001b[0m\u001b[0;34m.\u001b[0m\u001b[0m_slow_forward\u001b[0m\u001b[0;34m(\u001b[0m\u001b[0;34m*\u001b[0m\u001b[0minput\u001b[0m\u001b[0;34m,\u001b[0m \u001b[0;34m**\u001b[0m\u001b[0mkwargs\u001b[0m\u001b[0;34m)\u001b[0m\u001b[0;34m\u001b[0m\u001b[0;34m\u001b[0m\u001b[0m\n\u001b[1;32m    888\u001b[0m         \u001b[0;32melse\u001b[0m\u001b[0;34m:\u001b[0m\u001b[0;34m\u001b[0m\u001b[0;34m\u001b[0m\u001b[0m\n\u001b[0;32m--> 889\u001b[0;31m             \u001b[0mresult\u001b[0m \u001b[0;34m=\u001b[0m \u001b[0mself\u001b[0m\u001b[0;34m.\u001b[0m\u001b[0mforward\u001b[0m\u001b[0;34m(\u001b[0m\u001b[0;34m*\u001b[0m\u001b[0minput\u001b[0m\u001b[0;34m,\u001b[0m \u001b[0;34m**\u001b[0m\u001b[0mkwargs\u001b[0m\u001b[0;34m)\u001b[0m\u001b[0;34m\u001b[0m\u001b[0;34m\u001b[0m\u001b[0m\n\u001b[0m\u001b[1;32m    890\u001b[0m         for hook in itertools.chain(\n\u001b[1;32m    891\u001b[0m                 \u001b[0m_global_forward_hooks\u001b[0m\u001b[0;34m.\u001b[0m\u001b[0mvalues\u001b[0m\u001b[0;34m(\u001b[0m\u001b[0;34m)\u001b[0m\u001b[0;34m,\u001b[0m\u001b[0;34m\u001b[0m\u001b[0;34m\u001b[0m\u001b[0m\n",
      "\u001b[0;32m~/Documents/project_master_thesis/chemprot_testing_ground/venv/lib/python3.8/site-packages/transformers/models/bert/modeling_bert.py\u001b[0m in \u001b[0;36mforward\u001b[0;34m(self, hidden_states, attention_mask, head_mask, encoder_hidden_states, encoder_attention_mask, past_key_value, output_attentions)\u001b[0m\n\u001b[1;32m    385\u001b[0m         \u001b[0moutput_attentions\u001b[0m\u001b[0;34m=\u001b[0m\u001b[0;32mFalse\u001b[0m\u001b[0;34m,\u001b[0m\u001b[0;34m\u001b[0m\u001b[0;34m\u001b[0m\u001b[0m\n\u001b[1;32m    386\u001b[0m     ):\n\u001b[0;32m--> 387\u001b[0;31m         self_outputs = self.self(\n\u001b[0m\u001b[1;32m    388\u001b[0m             \u001b[0mhidden_states\u001b[0m\u001b[0;34m,\u001b[0m\u001b[0;34m\u001b[0m\u001b[0;34m\u001b[0m\u001b[0m\n\u001b[1;32m    389\u001b[0m             \u001b[0mattention_mask\u001b[0m\u001b[0;34m,\u001b[0m\u001b[0;34m\u001b[0m\u001b[0;34m\u001b[0m\u001b[0m\n",
      "\u001b[0;32m~/Documents/project_master_thesis/chemprot_testing_ground/venv/lib/python3.8/site-packages/torch/nn/modules/module.py\u001b[0m in \u001b[0;36m_call_impl\u001b[0;34m(self, *input, **kwargs)\u001b[0m\n\u001b[1;32m    887\u001b[0m             \u001b[0mresult\u001b[0m \u001b[0;34m=\u001b[0m \u001b[0mself\u001b[0m\u001b[0;34m.\u001b[0m\u001b[0m_slow_forward\u001b[0m\u001b[0;34m(\u001b[0m\u001b[0;34m*\u001b[0m\u001b[0minput\u001b[0m\u001b[0;34m,\u001b[0m \u001b[0;34m**\u001b[0m\u001b[0mkwargs\u001b[0m\u001b[0;34m)\u001b[0m\u001b[0;34m\u001b[0m\u001b[0;34m\u001b[0m\u001b[0m\n\u001b[1;32m    888\u001b[0m         \u001b[0;32melse\u001b[0m\u001b[0;34m:\u001b[0m\u001b[0;34m\u001b[0m\u001b[0;34m\u001b[0m\u001b[0m\n\u001b[0;32m--> 889\u001b[0;31m             \u001b[0mresult\u001b[0m \u001b[0;34m=\u001b[0m \u001b[0mself\u001b[0m\u001b[0;34m.\u001b[0m\u001b[0mforward\u001b[0m\u001b[0;34m(\u001b[0m\u001b[0;34m*\u001b[0m\u001b[0minput\u001b[0m\u001b[0;34m,\u001b[0m \u001b[0;34m**\u001b[0m\u001b[0mkwargs\u001b[0m\u001b[0;34m)\u001b[0m\u001b[0;34m\u001b[0m\u001b[0;34m\u001b[0m\u001b[0m\n\u001b[0m\u001b[1;32m    890\u001b[0m         for hook in itertools.chain(\n\u001b[1;32m    891\u001b[0m                 \u001b[0m_global_forward_hooks\u001b[0m\u001b[0;34m.\u001b[0m\u001b[0mvalues\u001b[0m\u001b[0;34m(\u001b[0m\u001b[0;34m)\u001b[0m\u001b[0;34m,\u001b[0m\u001b[0;34m\u001b[0m\u001b[0;34m\u001b[0m\u001b[0m\n",
      "\u001b[0;32m~/Documents/project_master_thesis/chemprot_testing_ground/venv/lib/python3.8/site-packages/transformers/models/bert/modeling_bert.py\u001b[0m in \u001b[0;36mforward\u001b[0;34m(self, hidden_states, attention_mask, head_mask, encoder_hidden_states, encoder_attention_mask, past_key_value, output_attentions)\u001b[0m\n\u001b[1;32m    289\u001b[0m \u001b[0;34m\u001b[0m\u001b[0m\n\u001b[1;32m    290\u001b[0m         \u001b[0;31m# Take the dot product between \"query\" and \"key\" to get the raw attention scores.\u001b[0m\u001b[0;34m\u001b[0m\u001b[0;34m\u001b[0m\u001b[0;34m\u001b[0m\u001b[0m\n\u001b[0;32m--> 291\u001b[0;31m         \u001b[0mattention_scores\u001b[0m \u001b[0;34m=\u001b[0m \u001b[0mtorch\u001b[0m\u001b[0;34m.\u001b[0m\u001b[0mmatmul\u001b[0m\u001b[0;34m(\u001b[0m\u001b[0mquery_layer\u001b[0m\u001b[0;34m,\u001b[0m \u001b[0mkey_layer\u001b[0m\u001b[0;34m.\u001b[0m\u001b[0mtranspose\u001b[0m\u001b[0;34m(\u001b[0m\u001b[0;34m-\u001b[0m\u001b[0;36m1\u001b[0m\u001b[0;34m,\u001b[0m \u001b[0;34m-\u001b[0m\u001b[0;36m2\u001b[0m\u001b[0;34m)\u001b[0m\u001b[0;34m)\u001b[0m\u001b[0;34m\u001b[0m\u001b[0;34m\u001b[0m\u001b[0m\n\u001b[0m\u001b[1;32m    292\u001b[0m \u001b[0;34m\u001b[0m\u001b[0m\n\u001b[1;32m    293\u001b[0m         \u001b[0;32mif\u001b[0m \u001b[0mself\u001b[0m\u001b[0;34m.\u001b[0m\u001b[0mposition_embedding_type\u001b[0m \u001b[0;34m==\u001b[0m \u001b[0;34m\"relative_key\"\u001b[0m \u001b[0;32mor\u001b[0m \u001b[0mself\u001b[0m\u001b[0;34m.\u001b[0m\u001b[0mposition_embedding_type\u001b[0m \u001b[0;34m==\u001b[0m \u001b[0;34m\"relative_key_query\"\u001b[0m\u001b[0;34m:\u001b[0m\u001b[0;34m\u001b[0m\u001b[0;34m\u001b[0m\u001b[0m\n",
      "\u001b[0;31mRuntimeError\u001b[0m: CUDA out of memory. Tried to allocate 16.00 MiB (GPU 0; 5.78 GiB total capacity; 3.55 GiB already allocated; 32.12 MiB free; 3.75 GiB reserved in total by PyTorch)"
     ]
    }
   ],
   "source": [
    "import random\n",
    "import numpy as np\n",
    "\n",
    "# This training code is based on the `run_glue.py` script here:\n",
    "# https://github.com/huggingface/transformers/blob/5bfcd0485ece086ebcbed2d008813037968a9e58/examples/run_glue.py#L128\n",
    "\n",
    "# Set the seed value all over the place to make this reproducible.\n",
    "seed_val = 42\n",
    "\n",
    "random.seed(seed_val)\n",
    "np.random.seed(seed_val)\n",
    "torch.manual_seed(seed_val)\n",
    "torch.cuda.manual_seed_all(seed_val)\n",
    "\n",
    "# We'll store a number of quantities such as training and validation loss, \n",
    "# validation accuracy, and timings.\n",
    "training_stats = []\n",
    "\n",
    "# For each epoch...\n",
    "for epoch_i in range(0, epochs):\n",
    "    \n",
    "    # ========================================\n",
    "    #               Training\n",
    "    # ========================================\n",
    "    \n",
    "    # Perform one full pass over the training set.\n",
    "\n",
    "    print(\"\")\n",
    "    print('======== Epoch {:} / {:} ========'.format(epoch_i + 1, epochs))\n",
    "    print('Training...')\n",
    "\n",
    "    # Measure how long the training epoch takes.\n",
    "    t0 = time.time()\n",
    "\n",
    "    # Reset the total loss for this epoch.\n",
    "    total_train_loss = 0\n",
    "\n",
    "    # Put the model into training mode. Don't be mislead--the call to \n",
    "    # `train` just changes the *mode*, it doesn't *perform* the training.\n",
    "    # `dropout` and `batchnorm` layers behave differently during training\n",
    "    # vs. test (source: https://stackoverflow.com/questions/51433378/what-does-model-train-do-in-pytorch)\n",
    "    model.train()\n",
    "\n",
    "    # For each batch of training data...\n",
    "    for step, batch in enumerate(train_dataloader):\n",
    "\n",
    "        # Progress update every 50 batches.\n",
    "        if step % 50 == 0 and not step == 0:\n",
    "            # Calculate elapsed time in minutes.\n",
    "            elapsed = format_time(time.time() - t0)\n",
    "            \n",
    "            # Report progress.\n",
    "            print('  Batch {:>5,}  of  {:>5,}.    Elapsed: {:}.'.format(step, len(train_dataloader), elapsed))\n",
    "\n",
    "        # Unpack this training batch from our dataloader. \n",
    "        #\n",
    "        # As we unpack the batch, we'll also copy each tensor to the GPU using the \n",
    "        # `to` method.\n",
    "        #\n",
    "        # `batch` contains three pytorch tensors:\n",
    "        #   [0]: input ids \n",
    "        #   [1]: attention masks\n",
    "        #   [2]: labels \n",
    "        b_input_ids = batch[0].to(device)\n",
    "        b_input_mask = batch[1].to(device)\n",
    "        b_labels = batch[2].to(device)\n",
    "\n",
    "        # Check GPU memory for the first couple steps.\n",
    "        if step < 2:\n",
    "            print('\\n  Step {:} GPU Memory Use:'.format(step))\n",
    "            df = check_gpu_mem()    \n",
    "            print('    Before forward-pass: {:}'.format(df.iloc[0, 1]))\n",
    "\n",
    "        # Always clear any previously calculated gradients before performing a\n",
    "        # backward pass. PyTorch doesn't do this automatically because \n",
    "        # accumulating the gradients is \"convenient while training RNNs\". \n",
    "        # (source: https://stackoverflow.com/questions/48001598/why-do-we-need-to-call-zero-grad-in-pytorch)\n",
    "        model.zero_grad()        \n",
    "\n",
    "        # Perform a forward pass (evaluate the model on this training batch).\n",
    "        # The documentation for this `model` function is here: \n",
    "        # https://huggingface.co/transformers/v2.2.0/model_doc/bert.html#transformers.BertForSequenceClassification\n",
    "        # It returns different numbers of parameters depending on what arguments\n",
    "        # arge given and what flags are set. For our useage here, it returns\n",
    "        # the loss (because we provided labels) and the \"logits\"--the model\n",
    "        # outputs prior to activation.\n",
    "        loss, logits = model(b_input_ids, \n",
    "                             token_type_ids=None, \n",
    "                             attention_mask=b_input_mask, \n",
    "                             labels=b_labels)\n",
    "\n",
    "        # Report GPU memory use for the first couple steps.\n",
    "        if step < 2:\n",
    "            df = check_gpu_mem()    \n",
    "            print('     After forward-pass: {:}'.format(df.iloc[0, 1]))\n",
    "\n",
    "        # Accumulate the training loss over all of the batches so that we can\n",
    "        # calculate the average loss at the end. `loss` is a Tensor containing a\n",
    "        # single value; the `.item()` function just returns the Python value \n",
    "        # from the tensor.\n",
    "        total_train_loss += loss.item()\n",
    "\n",
    "        # Perform a backward pass to calculate the gradients.\n",
    "        loss.backward()\n",
    "\n",
    "        # Report GPU memory use for the first couple steps.\n",
    "        if step < 2:\n",
    "            df = check_gpu_mem()    \n",
    "            print('    After gradient calculation: {:}'.format(df.iloc[0, 1]))\n",
    "\n",
    "        # Clip the norm of the gradients to 1.0.\n",
    "        # This is to help prevent the \"exploding gradients\" problem.\n",
    "        torch.nn.utils.clip_grad_norm_(model.parameters(), 1.0)\n",
    "\n",
    "        # Update parameters and take a step using the computed gradient.\n",
    "        # The optimizer dictates the \"update rule\"--how the parameters are\n",
    "        # modified based on their gradients, the learning rate, etc.\n",
    "        optimizer.step()\n",
    "\n",
    "        # Update the learning rate.\n",
    "        scheduler.step()\n",
    "\n",
    "    # Calculate the average loss over all of the batches.\n",
    "    avg_train_loss = total_train_loss / len(train_dataloader)            \n",
    "    \n",
    "    # Measure how long this epoch took.\n",
    "    training_time = format_time(time.time() - t0)\n",
    "\n",
    "    print(\"\")\n",
    "    print(\"  Average training loss: {0:.2f}\".format(avg_train_loss))\n",
    "    print(\"  Training epcoh took: {:}\".format(training_time))\n",
    "        \n",
    "    # ========================================\n",
    "    #               Validation\n",
    "    # ========================================\n",
    "    # After the completion of each training epoch, measure our performance on\n",
    "    # our validation set.\n",
    "\n",
    "    print(\"\")\n",
    "    print(\"Running Validation...\")\n",
    "\n",
    "    t0 = time.time()\n",
    "\n",
    "    # Put the model in evaluation mode--the dropout layers behave differently\n",
    "    # during evaluation.\n",
    "    model.eval()\n",
    "\n",
    "    # Tracking variables \n",
    "    total_eval_accuracy = 0\n",
    "    total_eval_loss = 0\n",
    "    nb_eval_steps = 0\n",
    "\n",
    "    # Evaluate data for one epoch\n",
    "    for batch in validation_dataloader:\n",
    "        \n",
    "        # Unpack this training batch from our dataloader. \n",
    "        #\n",
    "        # As we unpack the batch, we'll also copy each tensor to the GPU using \n",
    "        # the `to` method.\n",
    "        #\n",
    "        # `batch` contains three pytorch tensors:\n",
    "        #   [0]: input ids \n",
    "        #   [1]: attention masks\n",
    "        #   [2]: labels \n",
    "        b_input_ids = batch[0].to(device)\n",
    "        b_input_mask = batch[1].to(device)\n",
    "        b_labels = batch[2].to(device)\n",
    "        \n",
    "        # Tell pytorch not to bother with constructing the compute graph during\n",
    "        # the forward pass, since this is only needed for backprop (training).\n",
    "        with torch.no_grad():        \n",
    "\n",
    "            # Forward pass, calculate logit predictions.\n",
    "            # token_type_ids is the same as the \"segment ids\", which \n",
    "            # differentiates sentence 1 and 2 in 2-sentence tasks.\n",
    "            # The documentation for this `model` function is here: \n",
    "            # https://huggingface.co/transformers/v2.2.0/model_doc/bert.html#transformers.BertForSequenceClassification\n",
    "            # Get the \"logits\" output by the model. The \"logits\" are the output\n",
    "            # values prior to applying an activation function like the softmax.\n",
    "            (loss, logits) = model(b_input_ids, \n",
    "                                   token_type_ids=None, \n",
    "                                   attention_mask=b_input_mask,\n",
    "                                   labels=b_labels)\n",
    "            \n",
    "        # Accumulate the validation loss.\n",
    "        total_eval_loss += loss.item()\n",
    "\n",
    "        # Move logits and labels to CPU\n",
    "        logits = logits.detach().cpu().numpy()\n",
    "        label_ids = b_labels.to('cpu').numpy()\n",
    "\n",
    "        # Calculate the accuracy for this batch of test sentences, and\n",
    "        # accumulate it over all batches.\n",
    "        total_eval_accuracy += flat_accuracy(logits, label_ids)\n",
    "        \n",
    "\n",
    "    # Report the final accuracy for this validation run.\n",
    "    avg_val_accuracy = total_eval_accuracy / len(validation_dataloader)\n",
    "    print(\"  Accuracy: {0:.2f}\".format(avg_val_accuracy))\n",
    "\n",
    "    # Calculate the average loss over all of the batches.\n",
    "    avg_val_loss = total_eval_loss / len(validation_dataloader)\n",
    "    \n",
    "    validation_time = format_time(time.time() - t0)\n",
    "    print(\"  Validation Loss: {0:.2f}\".format(avg_val_loss))\n",
    "    print(\"  Validation took: {:}\".format(validation_time))\n",
    "\n",
    "    # Record all statistics from this epoch.\n",
    "    training_stats.append(\n",
    "        {\n",
    "            'epoch': epoch_i + 1,\n",
    "            'Training Loss': avg_train_loss,\n",
    "            'Valid. Loss': avg_val_loss,\n",
    "            'Valid. Accur.': avg_val_accuracy,\n",
    "            'Training Time': training_time,\n",
    "            'Validation Time': validation_time\n",
    "        }\n",
    "    )\n",
    "\n",
    "print(\"\")\n",
    "print(\"Training complete!\")"
   ]
  },
  {
   "cell_type": "markdown",
   "metadata": {
    "id": "VQTvJ1vRP7u4"
   },
   "source": [
    "**Check for Over-Fitting**\n",
    "\n",
    "Let's view the summary of the training process.\n",
    "\n",
    "Training accuracy should always go up, or at least remain constant, with each additional training epoch. \n",
    "\n",
    "However, if we see that the validation accuracy is *decreasing*, it tells us that we are training too long, and our model is over-fitting. "
   ]
  },
  {
   "cell_type": "code",
   "execution_count": null,
   "metadata": {
    "colab": {
     "base_uri": "https://localhost:8080/",
     "height": 204
    },
    "id": "6O_NbXFGMukX",
    "outputId": "e1a7e432-d549-4573-d179-66d7ba08cba5"
   },
   "outputs": [
    {
     "data": {
      "text/html": [
       "<div>\n",
       "<style scoped>\n",
       "    .dataframe tbody tr th:only-of-type {\n",
       "        vertical-align: middle;\n",
       "    }\n",
       "\n",
       "    .dataframe tbody tr th {\n",
       "        vertical-align: top;\n",
       "    }\n",
       "\n",
       "    .dataframe thead th {\n",
       "        text-align: right;\n",
       "    }\n",
       "</style>\n",
       "<table border=\"1\" class=\"dataframe\">\n",
       "  <thead>\n",
       "    <tr style=\"text-align: right;\">\n",
       "      <th></th>\n",
       "      <th>Training Loss</th>\n",
       "      <th>Valid. Loss</th>\n",
       "      <th>Valid. Accur.</th>\n",
       "      <th>Training Time</th>\n",
       "      <th>Validation Time</th>\n",
       "    </tr>\n",
       "    <tr>\n",
       "      <th>epoch</th>\n",
       "      <th></th>\n",
       "      <th></th>\n",
       "      <th></th>\n",
       "      <th></th>\n",
       "      <th></th>\n",
       "    </tr>\n",
       "  </thead>\n",
       "  <tbody>\n",
       "    <tr>\n",
       "      <th>1</th>\n",
       "      <td>1.61</td>\n",
       "      <td>1.04</td>\n",
       "      <td>0.70</td>\n",
       "      <td>0:09:42</td>\n",
       "      <td>0:00:24</td>\n",
       "    </tr>\n",
       "    <tr>\n",
       "      <th>2</th>\n",
       "      <td>0.82</td>\n",
       "      <td>0.93</td>\n",
       "      <td>0.72</td>\n",
       "      <td>0:09:48</td>\n",
       "      <td>0:00:24</td>\n",
       "    </tr>\n",
       "    <tr>\n",
       "      <th>3</th>\n",
       "      <td>0.57</td>\n",
       "      <td>0.89</td>\n",
       "      <td>0.74</td>\n",
       "      <td>0:09:48</td>\n",
       "      <td>0:00:24</td>\n",
       "    </tr>\n",
       "    <tr>\n",
       "      <th>4</th>\n",
       "      <td>0.43</td>\n",
       "      <td>0.90</td>\n",
       "      <td>0.74</td>\n",
       "      <td>0:09:48</td>\n",
       "      <td>0:00:24</td>\n",
       "    </tr>\n",
       "  </tbody>\n",
       "</table>\n",
       "</div>"
      ],
      "text/plain": [
       "       Training Loss  Valid. Loss  Valid. Accur. Training Time Validation Time\n",
       "epoch                                                                         \n",
       "1               1.61         1.04           0.70       0:09:42         0:00:24\n",
       "2               0.82         0.93           0.72       0:09:48         0:00:24\n",
       "3               0.57         0.89           0.74       0:09:48         0:00:24\n",
       "4               0.43         0.90           0.74       0:09:48         0:00:24"
      ]
     },
     "execution_count": 33,
     "metadata": {
      "tags": []
     },
     "output_type": "execute_result"
    }
   ],
   "source": [
    "import pandas as pd\n",
    "\n",
    "# Create a DataFrame from our training statistics.\n",
    "df_stats = pd.DataFrame(data=training_stats)\n",
    "\n",
    "# Use the 'epoch' as the row index.\n",
    "df_stats = df_stats.set_index('epoch')\n",
    "\n",
    "# A hack to force the column headers to wrap.\n",
    "#df = df.style.set_table_styles([dict(selector=\"th\",props=[('max-width', '50px')])])\n",
    "\n",
    "# Display floats with two decimal places.\n",
    "pd.set_option('precision', 2)\n",
    "\n",
    "# Display the table.\n",
    "df_stats"
   ]
  },
  {
   "cell_type": "markdown",
   "metadata": {
    "id": "wC64axhF0_aQ"
   },
   "source": [
    "Let's take a look at our training loss over all epochs:"
   ]
  },
  {
   "cell_type": "code",
   "execution_count": null,
   "metadata": {
    "colab": {
     "base_uri": "https://localhost:8080/",
     "height": 427
    },
    "id": "kOx9lsfm0_aR",
    "outputId": "f5d5b29f-da5f-4716-f0b5-eb19e3ab335a"
   },
   "outputs": [
    {
     "data": {
      "image/png": "[encoded data removed]",
      "text/plain": [
       "<Figure size 864x432 with 1 Axes>"
      ]
     },
     "metadata": {
      "tags": []
     },
     "output_type": "display_data"
    }
   ],
   "source": [
    "import matplotlib.pyplot as plt\n",
    "% matplotlib inline\n",
    "\n",
    "import seaborn as sns\n",
    "\n",
    "# Use plot styling from seaborn.\n",
    "sns.set(style='darkgrid')\n",
    "\n",
    "# Increase the plot size and font size.\n",
    "sns.set(font_scale=1.5)\n",
    "plt.rcParams[\"figure.figsize\"] = (12,6)\n",
    "\n",
    "# Plot the learning curve.\n",
    "plt.plot(df_stats['Training Loss'], 'b-o', label=\"Training\")\n",
    "plt.plot(df_stats['Valid. Loss'], 'g-o', label=\"Validation\")\n",
    "\n",
    "# Label the plot.\n",
    "plt.title(\"Training & Validation loss\")\n",
    "plt.xlabel(\"Epoch\")\n",
    "plt.ylabel(\"Loss\")\n",
    "plt.legend()\n",
    "plt.xticks([1, 2, 3, 4])\n",
    "\n",
    "plt.show()"
   ]
  },
  {
   "cell_type": "markdown",
   "metadata": {
    "id": "LqONpNsvA29f"
   },
   "source": [
    "We do appear to be over-fitting slightly in our fourth epoch, but not severely."
   ]
  },
  {
   "cell_type": "markdown",
   "metadata": {
    "id": "HDNPfN7qSfAY"
   },
   "source": [
    "# Part III - Performance & Analysis"
   ]
  },
  {
   "cell_type": "markdown",
   "metadata": {
    "id": "mkyubuJSOzg3"
   },
   "source": [
    "## S5. Performance On Test Set"
   ]
  },
  {
   "cell_type": "markdown",
   "metadata": {
    "id": "huAaDukC1Orh"
   },
   "source": [
    "### 5.1. Baseline Implementation"
   ]
  },
  {
   "cell_type": "markdown",
   "metadata": {
    "id": "TELGvAm56e0T"
   },
   "source": [
    "The below code is taken directly from the sci-kit learn example code for this dataset [here](https://scikit-learn.org/0.19/datasets/twenty_newsgroups.html). I've re-organized it a bit and added comments.  \n",
    "\n",
    "The quick summary:\n",
    "* It uses `tf-idf` for vectorization.\n",
    "* It uses `multinomial naive bayes` for classification.\n",
    "* F1 score: `0.683`   (on the test set)"
   ]
  },
  {
   "cell_type": "code",
   "execution_count": null,
   "metadata": {
    "colab": {
     "base_uri": "https://localhost:8080/",
     "height": 119
    },
    "id": "bcGu2FTQ1S7w",
    "outputId": "ae2aae53-12a6-45b8-c3f4-f7caa2f8aa12"
   },
   "outputs": [
    {
     "name": "stdout",
     "output_type": "stream",
     "text": [
      "Analyzing dataset for tf-idf...\n",
      "\n",
      "Vectorizing the text samples...\n",
      "\n",
      "11,314 train samples with 101,631 features.\n",
      " 7,532  test samples with 101,631 features.\n"
     ]
    }
   ],
   "source": [
    "from sklearn.feature_extraction.text import TfidfVectorizer\n",
    "from sklearn.naive_bayes import MultinomialNB\n",
    "from sklearn import metrics\n",
    "\n",
    "# Rename our dataset variables to be consistent with the example.\n",
    "newsgroups_train = train\n",
    "newsgroups_test = test\n",
    "\n",
    "# Vectorize the text using tf-idf.\n",
    "vectorizer = TfidfVectorizer()\n",
    "\n",
    "# Before we can vectorize the text, the tf-idf model needs\n",
    "# to analyze the dataset to build a vocabulary and word counts.\n",
    "print('Analyzing dataset for tf-idf...\\n')\n",
    "vectorizer.fit(newsgroups_train.data)\n",
    "\n",
    "# Convert the text samples into tf-idf vectors.\n",
    "print('Vectorizing the text samples...\\n')\n",
    "vectors_train = vectorizer.transform(newsgroups_train.data)\n",
    "vectors_test = vectorizer.transform(newsgroups_test.data)\n",
    "\n",
    "print('{:>6,} train samples with {:<7,} features.'.format(vectors_train.shape[0], vectors_train.shape[1]))\n",
    "print('{:>6,}  test samples with {:<7,} features.'.format(vectors_test.shape[0], vectors_test.shape[1]))"
   ]
  },
  {
   "cell_type": "code",
   "execution_count": null,
   "metadata": {
    "colab": {
     "base_uri": "https://localhost:8080/",
     "height": 102
    },
    "id": "Mvutv2D53bJo",
    "outputId": "f8d518d9-08dc-4bc9-d500-6dfe069ab05d"
   },
   "outputs": [
    {
     "name": "stdout",
     "output_type": "stream",
     "text": [
      "Training the Naive Bays classifier...\n",
      "\n",
      "Predicting labels for the test set...\n",
      "\n",
      "F1 score: 0.683\n"
     ]
    }
   ],
   "source": [
    "# Following the example, we'll use a \"multinomial Naive Bayes\" classifier.\n",
    "clf = MultinomialNB(alpha=.01)\n",
    "\n",
    "# Train the classifier on the training set.\n",
    "print('Training the Naive Bays classifier...\\n')\n",
    "clf.fit(vectors_train, newsgroups_train.target)\n",
    "\n",
    "# Run prediction on the test set.\n",
    "print('Predicting labels for the test set...\\n')\n",
    "pred = clf.predict(vectors_test)\n",
    "\n",
    "# Use the F1 metric to score our classifier's performance on the test set.\n",
    "score = metrics.f1_score(newsgroups_test.target, pred, average='macro')\n",
    "\n",
    "# Print the F1 score!\n",
    "print('F1 score: {:.3}'.format(score))"
   ]
  },
  {
   "cell_type": "markdown",
   "metadata": {
    "id": "16lctEOyNFik"
   },
   "source": [
    "### 5.2. Evaluate BERT on Test Set\n"
   ]
  },
  {
   "cell_type": "markdown",
   "metadata": {
    "id": "rhR99IISNMg9"
   },
   "source": [
    "\n",
    "Now we can apply our fine-tuned BERT model to generate predictions on the test set."
   ]
  },
  {
   "cell_type": "code",
   "execution_count": null,
   "metadata": {
    "colab": {
     "base_uri": "https://localhost:8080/",
     "height": 204
    },
    "id": "Hba10sXR7Xi6",
    "outputId": "b2a6dc50-f5dc-44e5-bb7d-a3cabe355f0b"
   },
   "outputs": [
    {
     "name": "stdout",
     "output_type": "stream",
     "text": [
      "Predicting labels for 7,532 test comments...\n",
      "  Batch    50  of    471.    Elapsed: 0:00:17.\n",
      "  Batch   100  of    471.    Elapsed: 0:00:34.\n",
      "  Batch   150  of    471.    Elapsed: 0:00:51.\n",
      "  Batch   200  of    471.    Elapsed: 0:01:07.\n",
      "  Batch   250  of    471.    Elapsed: 0:01:24.\n",
      "  Batch   300  of    471.    Elapsed: 0:01:41.\n",
      "  Batch   350  of    471.    Elapsed: 0:01:58.\n",
      "  Batch   400  of    471.    Elapsed: 0:02:14.\n",
      "  Batch   450  of    471.    Elapsed: 0:02:31.\n",
      "    DONE.\n"
     ]
    }
   ],
   "source": [
    "# Create the DataLoaders.\n",
    "\n",
    "# Combine the features into a dataset object.\n",
    "test_data = TensorDataset(test_input_ids, test_attention_masks, test_labels)\n",
    "\n",
    "# Create a sequential sampler--no need to randomize the order!\n",
    "test_sampler = SequentialSampler(test_data)\n",
    "\n",
    "# Create the data loader.\n",
    "test_dataloader = DataLoader(test_data, sampler=test_sampler, batch_size=batch_size)\n",
    "\n",
    "\n",
    "# Predict labels for all test set examples.\n",
    "\n",
    "print('Predicting labels for {:,} test comments...'.format(len(test_input_ids)))\n",
    "\n",
    "# Put model in evaluation mode\n",
    "model.eval()\n",
    "\n",
    "# Tracking variables \n",
    "predictions , true_labels = [], []\n",
    "\n",
    "# Measure elapsed time.\n",
    "t0 = time.time()\n",
    "\n",
    "# Predict \n",
    "for (step, batch) in enumerate(test_dataloader):\n",
    "    \n",
    "    # Add batch to GPU\n",
    "    batch = tuple(t.to(device) for t in batch)\n",
    "  \n",
    "    # Progress update every 50 batches.\n",
    "    if step % 50 == 0 and not step == 0:\n",
    "        # Calculate elapsed time in minutes.\n",
    "        elapsed = format_time(time.time() - t0)\n",
    "        \n",
    "        # Report progress.\n",
    "        print('  Batch {:>5,}  of  {:>5,}.    Elapsed: {:}.'.format(step, len(test_dataloader), elapsed))\n",
    "\n",
    "\n",
    "    # Unpack the inputs from our dataloader\n",
    "    b_input_ids, b_input_mask, b_labels = batch\n",
    "  \n",
    "    # Telling the model not to compute or store the compute graph, saving memory\n",
    "    # and speeding up prediction\n",
    "    with torch.no_grad():\n",
    "        # Forward pass, calculate logit predictions\n",
    "        outputs = model(b_input_ids, token_type_ids=None, \n",
    "                        attention_mask=b_input_mask)\n",
    "\n",
    "    logits = outputs[0]\n",
    "\n",
    "    # Move logits and labels to CPU\n",
    "    logits = logits.detach().cpu().numpy()\n",
    "    label_ids = b_labels.to('cpu').numpy()\n",
    "  \n",
    "    # Store predictions and true labels\n",
    "    predictions.append(logits)\n",
    "    true_labels.append(label_ids)\n",
    "\n",
    "print('    DONE.')"
   ]
  },
  {
   "cell_type": "markdown",
   "metadata": {
    "id": "JrBswmqmyH5m"
   },
   "source": [
    "To turn our model outputs into actual predictions, we need to:\n",
    "\n",
    "1. Re-combine the predictions from across all of the batches.\n",
    "2. Pick a class label for each prediction by choosing the class with the highest output value."
   ]
  },
  {
   "cell_type": "code",
   "execution_count": null,
   "metadata": {
    "colab": {
     "base_uri": "https://localhost:8080/",
     "height": 51
    },
    "id": "WlBi2hc-IuVu",
    "outputId": "a0da9bf0-53d6-41de-907f-9c240a5654aa"
   },
   "outputs": [
    {
     "name": "stdout",
     "output_type": "stream",
     "text": [
      "`predictions` has shape (7532, 20)\n",
      "`predicted_labels` has shape (7532,)\n"
     ]
    }
   ],
   "source": [
    "# Combine the results across the batches.\n",
    "predictions = np.concatenate(predictions, axis=0)\n",
    "true_labels = np.concatenate(true_labels, axis=0)\n",
    "\n",
    "# Take the highest scoring output as the predicted label.\n",
    "predicted_labels = np.argmax(predictions, axis=1)\n",
    "\n",
    "print('`predictions` has shape', predictions.shape)\n",
    "print('`predicted_labels` has shape', predicted_labels.shape)\n"
   ]
  },
  {
   "cell_type": "markdown",
   "metadata": {
    "id": "yMVyXXHlr2pt"
   },
   "source": [
    "Let's peek at the model's outputs for the first 10 test samples, along with the correct labels for each."
   ]
  },
  {
   "cell_type": "code",
   "execution_count": null,
   "metadata": {
    "colab": {
     "base_uri": "https://localhost:8080/",
     "height": 51
    },
    "id": "_mjLBPw_LIE0",
    "outputId": "21e91363-89d7-4663-ee05-828672454613"
   },
   "outputs": [
    {
     "name": "stdout",
     "output_type": "stream",
     "text": [
      "Predicted: [ 7  5  0 17  0 13  0 15  5  1]\n",
      "  Correct: [ 7  5  0 17 19 13 15 15  5  1]\n"
     ]
    }
   ],
   "source": [
    "# Reduce printing precision for legibility.\n",
    "np.set_printoptions(precision=2)\n",
    "\n",
    "print(\"Predicted:\", str(predicted_labels[0:10]))\n",
    "print(\"  Correct:\", str(true_labels[0:10]))"
   ]
  },
  {
   "cell_type": "markdown",
   "metadata": {
    "id": "T3_xUMQEy2nC"
   },
   "source": [
    "The metric for the 20 Newsgroups dataset used by the scikit-learn example is the F1 score. Let's see how BERT performed!"
   ]
  },
  {
   "cell_type": "code",
   "execution_count": null,
   "metadata": {
    "colab": {
     "base_uri": "https://localhost:8080/",
     "height": 34
    },
    "id": "TAm_DiwRD6e5",
    "outputId": "db65224b-7031-4811-ba60-a6e92ca7b6f6"
   },
   "outputs": [
    {
     "name": "stdout",
     "output_type": "stream",
     "text": [
      "F1 score: 0.693\n"
     ]
    }
   ],
   "source": [
    "from sklearn import metrics\n",
    "\n",
    "# Use the F1 metric to score our classifier's performance on the test set.\n",
    "score = metrics.f1_score(true_labels, predicted_labels, average='macro')\n",
    "\n",
    "# Print the F1 score!\n",
    "print('F1 score: {:.3}'.format(score))"
   ]
  },
  {
   "cell_type": "markdown",
   "metadata": {
    "id": "WrMJKgif08iu"
   },
   "source": [
    "At this point, we have the following F1 scores:\n",
    "\n",
    "* Naive Bayes: `0.683`\n",
    "* BERT:  `0.693`\n",
    "\n",
    "We've outperformed the baseline! \n",
    "\n",
    "Using `batch_size = 8` and `max_len = 512`, the accuracy further increased to an F1 score of `0.701`. However, the training time was around 2 hours on a Tesla K80, so I stuck with `batch_size = 16` and `max_len = 300` for this example."
   ]
  }
 ],
 "metadata": {
  "accelerator": "GPU",
  "colab": {
   "collapsed_sections": [],
   "name": "BERT Multi-Class Classification - 20 Newsgroups.ipynb",
   "provenance": [],
   "toc_visible": true
  },
  "kernelspec": {
   "display_name": "Python 3",
   "language": "python",
   "name": "python3"
  },
  "language_info": {
   "codemirror_mode": {
    "name": "ipython",
    "version": 3
   },
   "file_extension": ".py",
   "mimetype": "text/x-python",
   "name": "python",
   "nbconvert_exporter": "python",
   "pygments_lexer": "ipython3",
   "version": "3.8.10"
  },
  "widgets": {
   "application/vnd.jupyter.widget-state+json": {
    "293440e19666450d9e93cadb10af6dc8": {
     "model_module": "@jupyter-widgets/base",
     "model_module_version": "1.2.0",
     "model_name": "LayoutModel",
     "state": {
      "_model_module": "@jupyter-widgets/base",
      "_model_module_version": "1.2.0",
      "_model_name": "LayoutModel",
      "_view_count": null,
      "_view_module": "@jupyter-widgets/base",
      "_view_module_version": "1.2.0",
      "_view_name": "LayoutView",
      "align_content": null,
      "align_items": null,
      "align_self": null,
      "border": null,
      "bottom": null,
      "display": null,
      "flex": null,
      "flex_flow": null,
      "grid_area": null,
      "grid_auto_columns": null,
      "grid_auto_flow": null,
      "grid_auto_rows": null,
      "grid_column": null,
      "grid_gap": null,
      "grid_row": null,
      "grid_template_areas": null,
      "grid_template_columns": null,
      "grid_template_rows": null,
      "height": null,
      "justify_content": null,
      "justify_items": null,
      "left": null,
      "margin": null,
      "max_height": null,
      "max_width": null,
      "min_height": null,
      "min_width": null,
      "object_fit": null,
      "object_position": null,
      "order": null,
      "overflow": null,
      "overflow_x": null,
      "overflow_y": null,
      "padding": null,
      "right": null,
      "top": null,
      "visibility": null,
      "width": null
     }
    },
    "48efb8fcc58948a19d7a42f5ddf439b0": {
     "model_module": "@jupyter-widgets/base",
     "model_module_version": "1.2.0",
     "model_name": "LayoutModel",
     "state": {
      "_model_module": "@jupyter-widgets/base",
      "_model_module_version": "1.2.0",
      "_model_name": "LayoutModel",
      "_view_count": null,
      "_view_module": "@jupyter-widgets/base",
      "_view_module_version": "1.2.0",
      "_view_name": "LayoutView",
      "align_content": null,
      "align_items": null,
      "align_self": null,
      "border": null,
      "bottom": null,
      "display": null,
      "flex": null,
      "flex_flow": null,
      "grid_area": null,
      "grid_auto_columns": null,
      "grid_auto_flow": null,
      "grid_auto_rows": null,
      "grid_column": null,
      "grid_gap": null,
      "grid_row": null,
      "grid_template_areas": null,
      "grid_template_columns": null,
      "grid_template_rows": null,
      "height": null,
      "justify_content": null,
      "justify_items": null,
      "left": null,
      "margin": null,
      "max_height": null,
      "max_width": null,
      "min_height": null,
      "min_width": null,
      "object_fit": null,
      "object_position": null,
      "order": null,
      "overflow": null,
      "overflow_x": null,
      "overflow_y": null,
      "padding": null,
      "right": null,
      "top": null,
      "visibility": null,
      "width": null
     }
    },
    "4ddf121894674a5593b5acb284b9bca6": {
     "model_module": "@jupyter-widgets/base",
     "model_module_version": "1.2.0",
     "model_name": "LayoutModel",
     "state": {
      "_model_module": "@jupyter-widgets/base",
      "_model_module_version": "1.2.0",
      "_model_name": "LayoutModel",
      "_view_count": null,
      "_view_module": "@jupyter-widgets/base",
      "_view_module_version": "1.2.0",
      "_view_name": "LayoutView",
      "align_content": null,
      "align_items": null,
      "align_self": null,
      "border": null,
      "bottom": null,
      "display": null,
      "flex": null,
      "flex_flow": null,
      "grid_area": null,
      "grid_auto_columns": null,
      "grid_auto_flow": null,
      "grid_auto_rows": null,
      "grid_column": null,
      "grid_gap": null,
      "grid_row": null,
      "grid_template_areas": null,
      "grid_template_columns": null,
      "grid_template_rows": null,
      "height": null,
      "justify_content": null,
      "justify_items": null,
      "left": null,
      "margin": null,
      "max_height": null,
      "max_width": null,
      "min_height": null,
      "min_width": null,
      "object_fit": null,
      "object_position": null,
      "order": null,
      "overflow": null,
      "overflow_x": null,
      "overflow_y": null,
      "padding": null,
      "right": null,
      "top": null,
      "visibility": null,
      "width": null
     }
    },
    "587a51577f7148a4a2c685b6ccd863d0": {
     "model_module": "@jupyter-widgets/base",
     "model_module_version": "1.2.0",
     "model_name": "LayoutModel",
     "state": {
      "_model_module": "@jupyter-widgets/base",
      "_model_module_version": "1.2.0",
      "_model_name": "LayoutModel",
      "_view_count": null,
      "_view_module": "@jupyter-widgets/base",
      "_view_module_version": "1.2.0",
      "_view_name": "LayoutView",
      "align_content": null,
      "align_items": null,
      "align_self": null,
      "border": null,
      "bottom": null,
      "display": null,
      "flex": null,
      "flex_flow": null,
      "grid_area": null,
      "grid_auto_columns": null,
      "grid_auto_flow": null,
      "grid_auto_rows": null,
      "grid_column": null,
      "grid_gap": null,
      "grid_row": null,
      "grid_template_areas": null,
      "grid_template_columns": null,
      "grid_template_rows": null,
      "height": null,
      "justify_content": null,
      "justify_items": null,
      "left": null,
      "margin": null,
      "max_height": null,
      "max_width": null,
      "min_height": null,
      "min_width": null,
      "object_fit": null,
      "object_position": null,
      "order": null,
      "overflow": null,
      "overflow_x": null,
      "overflow_y": null,
      "padding": null,
      "right": null,
      "top": null,
      "visibility": null,
      "width": null
     }
    },
    "5af3ce0b7305447fba23a6ef42ea8d8a": {
     "model_module": "@jupyter-widgets/controls",
     "model_module_version": "1.5.0",
     "model_name": "DescriptionStyleModel",
     "state": {
      "_model_module": "@jupyter-widgets/controls",
      "_model_module_version": "1.5.0",
      "_model_name": "DescriptionStyleModel",
      "_view_count": null,
      "_view_module": "@jupyter-widgets/base",
      "_view_module_version": "1.2.0",
      "_view_name": "StyleView",
      "description_width": ""
     }
    },
    "770a584c4966492a917e8b5aa4127b70": {
     "model_module": "@jupyter-widgets/controls",
     "model_module_version": "1.5.0",
     "model_name": "DescriptionStyleModel",
     "state": {
      "_model_module": "@jupyter-widgets/controls",
      "_model_module_version": "1.5.0",
      "_model_name": "DescriptionStyleModel",
      "_view_count": null,
      "_view_module": "@jupyter-widgets/base",
      "_view_module_version": "1.2.0",
      "_view_name": "StyleView",
      "description_width": ""
     }
    },
    "8615f37fe15749bbb229bbfa71d55bd8": {
     "model_module": "@jupyter-widgets/base",
     "model_module_version": "1.2.0",
     "model_name": "LayoutModel",
     "state": {
      "_model_module": "@jupyter-widgets/base",
      "_model_module_version": "1.2.0",
      "_model_name": "LayoutModel",
      "_view_count": null,
      "_view_module": "@jupyter-widgets/base",
      "_view_module_version": "1.2.0",
      "_view_name": "LayoutView",
      "align_content": null,
      "align_items": null,
      "align_self": null,
      "border": null,
      "bottom": null,
      "display": null,
      "flex": null,
      "flex_flow": null,
      "grid_area": null,
      "grid_auto_columns": null,
      "grid_auto_flow": null,
      "grid_auto_rows": null,
      "grid_column": null,
      "grid_gap": null,
      "grid_row": null,
      "grid_template_areas": null,
      "grid_template_columns": null,
      "grid_template_rows": null,
      "height": null,
      "justify_content": null,
      "justify_items": null,
      "left": null,
      "margin": null,
      "max_height": null,
      "max_width": null,
      "min_height": null,
      "min_width": null,
      "object_fit": null,
      "object_position": null,
      "order": null,
      "overflow": null,
      "overflow_x": null,
      "overflow_y": null,
      "padding": null,
      "right": null,
      "top": null,
      "visibility": null,
      "width": null
     }
    },
    "891297991ff240b2ba80f3f171558e60": {
     "model_module": "@jupyter-widgets/base",
     "model_module_version": "1.2.0",
     "model_name": "LayoutModel",
     "state": {
      "_model_module": "@jupyter-widgets/base",
      "_model_module_version": "1.2.0",
      "_model_name": "LayoutModel",
      "_view_count": null,
      "_view_module": "@jupyter-widgets/base",
      "_view_module_version": "1.2.0",
      "_view_name": "LayoutView",
      "align_content": null,
      "align_items": null,
      "align_self": null,
      "border": null,
      "bottom": null,
      "display": null,
      "flex": null,
      "flex_flow": null,
      "grid_area": null,
      "grid_auto_columns": null,
      "grid_auto_flow": null,
      "grid_auto_rows": null,
      "grid_column": null,
      "grid_gap": null,
      "grid_row": null,
      "grid_template_areas": null,
      "grid_template_columns": null,
      "grid_template_rows": null,
      "height": null,
      "justify_content": null,
      "justify_items": null,
      "left": null,
      "margin": null,
      "max_height": null,
      "max_width": null,
      "min_height": null,
      "min_width": null,
      "object_fit": null,
      "object_position": null,
      "order": null,
      "overflow": null,
      "overflow_x": null,
      "overflow_y": null,
      "padding": null,
      "right": null,
      "top": null,
      "visibility": null,
      "width": null
     }
    },
    "904869e0fdf74b699d91685dd77cf488": {
     "model_module": "@jupyter-widgets/controls",
     "model_module_version": "1.5.0",
     "model_name": "HTMLModel",
     "state": {
      "_dom_classes": [],
      "_model_module": "@jupyter-widgets/controls",
      "_model_module_version": "1.5.0",
      "_model_name": "HTMLModel",
      "_view_count": null,
      "_view_module": "@jupyter-widgets/controls",
      "_view_module_version": "1.5.0",
      "_view_name": "HTMLView",
      "description": "",
      "description_tooltip": null,
      "layout": "IPY_MODEL_955be4821556481c9bf509520e704339",
      "placeholder": "​",
      "style": "IPY_MODEL_5af3ce0b7305447fba23a6ef42ea8d8a",
      "value": " 433/433 [00:08&lt;00:00, 48.8B/s]"
     }
    },
    "93180cc77d384fb09b400b3acd6dfade": {
     "model_module": "@jupyter-widgets/controls",
     "model_module_version": "1.5.0",
     "model_name": "ProgressStyleModel",
     "state": {
      "_model_module": "@jupyter-widgets/controls",
      "_model_module_version": "1.5.0",
      "_model_name": "ProgressStyleModel",
      "_view_count": null,
      "_view_module": "@jupyter-widgets/base",
      "_view_module_version": "1.2.0",
      "_view_name": "StyleView",
      "bar_color": null,
      "description_width": "initial"
     }
    },
    "955be4821556481c9bf509520e704339": {
     "model_module": "@jupyter-widgets/base",
     "model_module_version": "1.2.0",
     "model_name": "LayoutModel",
     "state": {
      "_model_module": "@jupyter-widgets/base",
      "_model_module_version": "1.2.0",
      "_model_name": "LayoutModel",
      "_view_count": null,
      "_view_module": "@jupyter-widgets/base",
      "_view_module_version": "1.2.0",
      "_view_name": "LayoutView",
      "align_content": null,
      "align_items": null,
      "align_self": null,
      "border": null,
      "bottom": null,
      "display": null,
      "flex": null,
      "flex_flow": null,
      "grid_area": null,
      "grid_auto_columns": null,
      "grid_auto_flow": null,
      "grid_auto_rows": null,
      "grid_column": null,
      "grid_gap": null,
      "grid_row": null,
      "grid_template_areas": null,
      "grid_template_columns": null,
      "grid_template_rows": null,
      "height": null,
      "justify_content": null,
      "justify_items": null,
      "left": null,
      "margin": null,
      "max_height": null,
      "max_width": null,
      "min_height": null,
      "min_width": null,
      "object_fit": null,
      "object_position": null,
      "order": null,
      "overflow": null,
      "overflow_x": null,
      "overflow_y": null,
      "padding": null,
      "right": null,
      "top": null,
      "visibility": null,
      "width": null
     }
    },
    "9707e35d55c14608be12a2115cb2cb3f": {
     "model_module": "@jupyter-widgets/controls",
     "model_module_version": "1.5.0",
     "model_name": "ProgressStyleModel",
     "state": {
      "_model_module": "@jupyter-widgets/controls",
      "_model_module_version": "1.5.0",
      "_model_name": "ProgressStyleModel",
      "_view_count": null,
      "_view_module": "@jupyter-widgets/base",
      "_view_module_version": "1.2.0",
      "_view_name": "StyleView",
      "bar_color": null,
      "description_width": "initial"
     }
    },
    "9dc1c087b64e4351aa7c897bb1e505b4": {
     "model_module": "@jupyter-widgets/controls",
     "model_module_version": "1.5.0",
     "model_name": "HTMLModel",
     "state": {
      "_dom_classes": [],
      "_model_module": "@jupyter-widgets/controls",
      "_model_module_version": "1.5.0",
      "_model_name": "HTMLModel",
      "_view_count": null,
      "_view_module": "@jupyter-widgets/controls",
      "_view_module_version": "1.5.0",
      "_view_name": "HTMLView",
      "description": "",
      "description_tooltip": null,
      "layout": "IPY_MODEL_587a51577f7148a4a2c685b6ccd863d0",
      "placeholder": "​",
      "style": "IPY_MODEL_d88d2ed6ca5a4db4975ddbab3c574111",
      "value": " 232k/232k [00:00&lt;00:00, 593kB/s]"
     }
    },
    "a389ea538d714857896b5c56d5a8eb57": {
     "model_module": "@jupyter-widgets/controls",
     "model_module_version": "1.5.0",
     "model_name": "ProgressStyleModel",
     "state": {
      "_model_module": "@jupyter-widgets/controls",
      "_model_module_version": "1.5.0",
      "_model_name": "ProgressStyleModel",
      "_view_count": null,
      "_view_module": "@jupyter-widgets/base",
      "_view_module_version": "1.2.0",
      "_view_name": "StyleView",
      "bar_color": null,
      "description_width": "initial"
     }
    },
    "aa335525f2ee43e198e09a3820dfdfdd": {
     "model_module": "@jupyter-widgets/base",
     "model_module_version": "1.2.0",
     "model_name": "LayoutModel",
     "state": {
      "_model_module": "@jupyter-widgets/base",
      "_model_module_version": "1.2.0",
      "_model_name": "LayoutModel",
      "_view_count": null,
      "_view_module": "@jupyter-widgets/base",
      "_view_module_version": "1.2.0",
      "_view_name": "LayoutView",
      "align_content": null,
      "align_items": null,
      "align_self": null,
      "border": null,
      "bottom": null,
      "display": null,
      "flex": null,
      "flex_flow": null,
      "grid_area": null,
      "grid_auto_columns": null,
      "grid_auto_flow": null,
      "grid_auto_rows": null,
      "grid_column": null,
      "grid_gap": null,
      "grid_row": null,
      "grid_template_areas": null,
      "grid_template_columns": null,
      "grid_template_rows": null,
      "height": null,
      "justify_content": null,
      "justify_items": null,
      "left": null,
      "margin": null,
      "max_height": null,
      "max_width": null,
      "min_height": null,
      "min_width": null,
      "object_fit": null,
      "object_position": null,
      "order": null,
      "overflow": null,
      "overflow_x": null,
      "overflow_y": null,
      "padding": null,
      "right": null,
      "top": null,
      "visibility": null,
      "width": null
     }
    },
    "b4a3e68c591a4684a05674383833c327": {
     "model_module": "@jupyter-widgets/controls",
     "model_module_version": "1.5.0",
     "model_name": "HBoxModel",
     "state": {
      "_dom_classes": [],
      "_model_module": "@jupyter-widgets/controls",
      "_model_module_version": "1.5.0",
      "_model_name": "HBoxModel",
      "_view_count": null,
      "_view_module": "@jupyter-widgets/controls",
      "_view_module_version": "1.5.0",
      "_view_name": "HBoxView",
      "box_style": "",
      "children": [
       "IPY_MODEL_eafc86cf216a4ed48dc2b42807b631b6",
       "IPY_MODEL_e4435d1129bd4db1a0731f13f51b2cb9"
      ],
      "layout": "IPY_MODEL_8615f37fe15749bbb229bbfa71d55bd8"
     }
    },
    "bc44a9a24edd4a2b81f0abb6ea8e0a1a": {
     "model_module": "@jupyter-widgets/controls",
     "model_module_version": "1.5.0",
     "model_name": "FloatProgressModel",
     "state": {
      "_dom_classes": [],
      "_model_module": "@jupyter-widgets/controls",
      "_model_module_version": "1.5.0",
      "_model_name": "FloatProgressModel",
      "_view_count": null,
      "_view_module": "@jupyter-widgets/controls",
      "_view_module_version": "1.5.0",
      "_view_name": "ProgressView",
      "bar_style": "success",
      "description": "Downloading: 100%",
      "description_tooltip": null,
      "layout": "IPY_MODEL_293440e19666450d9e93cadb10af6dc8",
      "max": 433,
      "min": 0,
      "orientation": "horizontal",
      "style": "IPY_MODEL_93180cc77d384fb09b400b3acd6dfade",
      "value": 433
     }
    },
    "c9b37fb4de0b41459e754ee3b12294ba": {
     "model_module": "@jupyter-widgets/controls",
     "model_module_version": "1.5.0",
     "model_name": "FloatProgressModel",
     "state": {
      "_dom_classes": [],
      "_model_module": "@jupyter-widgets/controls",
      "_model_module_version": "1.5.0",
      "_model_name": "FloatProgressModel",
      "_view_count": null,
      "_view_module": "@jupyter-widgets/controls",
      "_view_module_version": "1.5.0",
      "_view_name": "ProgressView",
      "bar_style": "success",
      "description": "Downloading: 100%",
      "description_tooltip": null,
      "layout": "IPY_MODEL_891297991ff240b2ba80f3f171558e60",
      "max": 231508,
      "min": 0,
      "orientation": "horizontal",
      "style": "IPY_MODEL_a389ea538d714857896b5c56d5a8eb57",
      "value": 231508
     }
    },
    "cb2ed22245e04baa88c20a5fc82609db": {
     "model_module": "@jupyter-widgets/base",
     "model_module_version": "1.2.0",
     "model_name": "LayoutModel",
     "state": {
      "_model_module": "@jupyter-widgets/base",
      "_model_module_version": "1.2.0",
      "_model_name": "LayoutModel",
      "_view_count": null,
      "_view_module": "@jupyter-widgets/base",
      "_view_module_version": "1.2.0",
      "_view_name": "LayoutView",
      "align_content": null,
      "align_items": null,
      "align_self": null,
      "border": null,
      "bottom": null,
      "display": null,
      "flex": null,
      "flex_flow": null,
      "grid_area": null,
      "grid_auto_columns": null,
      "grid_auto_flow": null,
      "grid_auto_rows": null,
      "grid_column": null,
      "grid_gap": null,
      "grid_row": null,
      "grid_template_areas": null,
      "grid_template_columns": null,
      "grid_template_rows": null,
      "height": null,
      "justify_content": null,
      "justify_items": null,
      "left": null,
      "margin": null,
      "max_height": null,
      "max_width": null,
      "min_height": null,
      "min_width": null,
      "object_fit": null,
      "object_position": null,
      "order": null,
      "overflow": null,
      "overflow_x": null,
      "overflow_y": null,
      "padding": null,
      "right": null,
      "top": null,
      "visibility": null,
      "width": null
     }
    },
    "d88d2ed6ca5a4db4975ddbab3c574111": {
     "model_module": "@jupyter-widgets/controls",
     "model_module_version": "1.5.0",
     "model_name": "DescriptionStyleModel",
     "state": {
      "_model_module": "@jupyter-widgets/controls",
      "_model_module_version": "1.5.0",
      "_model_name": "DescriptionStyleModel",
      "_view_count": null,
      "_view_module": "@jupyter-widgets/base",
      "_view_module_version": "1.2.0",
      "_view_name": "StyleView",
      "description_width": ""
     }
    },
    "db72db3535264504963af4b5cad88adf": {
     "model_module": "@jupyter-widgets/controls",
     "model_module_version": "1.5.0",
     "model_name": "HBoxModel",
     "state": {
      "_dom_classes": [],
      "_model_module": "@jupyter-widgets/controls",
      "_model_module_version": "1.5.0",
      "_model_name": "HBoxModel",
      "_view_count": null,
      "_view_module": "@jupyter-widgets/controls",
      "_view_module_version": "1.5.0",
      "_view_name": "HBoxView",
      "box_style": "",
      "children": [
       "IPY_MODEL_c9b37fb4de0b41459e754ee3b12294ba",
       "IPY_MODEL_9dc1c087b64e4351aa7c897bb1e505b4"
      ],
      "layout": "IPY_MODEL_4ddf121894674a5593b5acb284b9bca6"
     }
    },
    "e4435d1129bd4db1a0731f13f51b2cb9": {
     "model_module": "@jupyter-widgets/controls",
     "model_module_version": "1.5.0",
     "model_name": "HTMLModel",
     "state": {
      "_dom_classes": [],
      "_model_module": "@jupyter-widgets/controls",
      "_model_module_version": "1.5.0",
      "_model_name": "HTMLModel",
      "_view_count": null,
      "_view_module": "@jupyter-widgets/controls",
      "_view_module_version": "1.5.0",
      "_view_name": "HTMLView",
      "description": "",
      "description_tooltip": null,
      "layout": "IPY_MODEL_aa335525f2ee43e198e09a3820dfdfdd",
      "placeholder": "​",
      "style": "IPY_MODEL_770a584c4966492a917e8b5aa4127b70",
      "value": " 440M/440M [00:06&lt;00:00, 71.1MB/s]"
     }
    },
    "e56d11573409479c96fa61299e531ff2": {
     "model_module": "@jupyter-widgets/controls",
     "model_module_version": "1.5.0",
     "model_name": "HBoxModel",
     "state": {
      "_dom_classes": [],
      "_model_module": "@jupyter-widgets/controls",
      "_model_module_version": "1.5.0",
      "_model_name": "HBoxModel",
      "_view_count": null,
      "_view_module": "@jupyter-widgets/controls",
      "_view_module_version": "1.5.0",
      "_view_name": "HBoxView",
      "box_style": "",
      "children": [
       "IPY_MODEL_bc44a9a24edd4a2b81f0abb6ea8e0a1a",
       "IPY_MODEL_904869e0fdf74b699d91685dd77cf488"
      ],
      "layout": "IPY_MODEL_48efb8fcc58948a19d7a42f5ddf439b0"
     }
    },
    "eafc86cf216a4ed48dc2b42807b631b6": {
     "model_module": "@jupyter-widgets/controls",
     "model_module_version": "1.5.0",
     "model_name": "FloatProgressModel",
     "state": {
      "_dom_classes": [],
      "_model_module": "@jupyter-widgets/controls",
      "_model_module_version": "1.5.0",
      "_model_name": "FloatProgressModel",
      "_view_count": null,
      "_view_module": "@jupyter-widgets/controls",
      "_view_module_version": "1.5.0",
      "_view_name": "ProgressView",
      "bar_style": "success",
      "description": "Downloading: 100%",
      "description_tooltip": null,
      "layout": "IPY_MODEL_cb2ed22245e04baa88c20a5fc82609db",
      "max": 440473133,
      "min": 0,
      "orientation": "horizontal",
      "style": "IPY_MODEL_9707e35d55c14608be12a2115cb2cb3f",
      "value": 440473133
     }
    }
   }
  }
 },
 "nbformat": 4,
 "nbformat_minor": 1
}
